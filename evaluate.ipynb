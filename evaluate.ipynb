{
 "cells": [
  {
   "cell_type": "code",
   "execution_count": 3,
   "id": "9bc3a94e",
   "metadata": {},
   "outputs": [],
   "source": [
    "import pandas as pd\n",
    "import numpy as np\n",
    "\n",
    "import matplotlib.pyplot as plt\n",
    "import seaborn as sns\n",
    "\n",
    "from adam_wrangle import train_val_test\n",
    "from scipy import stats\n",
    "from sklearn.metrics import mean_squared_error, r2_score, explained_variance_score\n",
    "from sklearn.linear_model import LinearRegression\n",
    "from math import sqrt\n",
    "\n",
    "import wrangle \n",
    "import evaluate\n",
    "\n",
    "seed = 55"
   ]
  },
  {
   "cell_type": "markdown",
   "id": "46073f68",
   "metadata": {},
   "source": [
    "## 1. Load your zillow dataset."
   ]
  },
  {
   "cell_type": "code",
   "execution_count": 4,
   "id": "6bb5d3a0",
   "metadata": {},
   "outputs": [],
   "source": [
    "zillow = wrangle.get_zillow()\n",
    "zillow = wrangle.drop_zill(zillow)"
   ]
  },
  {
   "cell_type": "code",
   "execution_count": 5,
   "id": "75b10e47",
   "metadata": {},
   "outputs": [],
   "source": [
    "train, val, test = wrangle.train_val_test(zillow)"
   ]
  },
  {
   "cell_type": "code",
   "execution_count": 6,
   "id": "ecb70b05",
   "metadata": {},
   "outputs": [
    {
     "data": {
      "text/html": [
       "<div>\n",
       "<style scoped>\n",
       "    .dataframe tbody tr th:only-of-type {\n",
       "        vertical-align: middle;\n",
       "    }\n",
       "\n",
       "    .dataframe tbody tr th {\n",
       "        vertical-align: top;\n",
       "    }\n",
       "\n",
       "    .dataframe thead th {\n",
       "        text-align: right;\n",
       "    }\n",
       "</style>\n",
       "<table border=\"1\" class=\"dataframe\">\n",
       "  <thead>\n",
       "    <tr style=\"text-align: right;\">\n",
       "      <th></th>\n",
       "      <th>bed</th>\n",
       "      <th>bath</th>\n",
       "      <th>sqft</th>\n",
       "      <th>value</th>\n",
       "      <th>year</th>\n",
       "      <th>tax</th>\n",
       "      <th>fips</th>\n",
       "    </tr>\n",
       "  </thead>\n",
       "  <tbody>\n",
       "    <tr>\n",
       "      <th>274677</th>\n",
       "      <td>3.0</td>\n",
       "      <td>2.0</td>\n",
       "      <td>2159.0</td>\n",
       "      <td>364577.0</td>\n",
       "      <td>1967.0</td>\n",
       "      <td>4517.62</td>\n",
       "      <td>6037.0</td>\n",
       "    </tr>\n",
       "    <tr>\n",
       "      <th>283102</th>\n",
       "      <td>2.0</td>\n",
       "      <td>1.0</td>\n",
       "      <td>1072.0</td>\n",
       "      <td>162390.0</td>\n",
       "      <td>1954.0</td>\n",
       "      <td>1996.96</td>\n",
       "      <td>6037.0</td>\n",
       "    </tr>\n",
       "  </tbody>\n",
       "</table>\n",
       "</div>"
      ],
      "text/plain": [
       "        bed  bath    sqft     value    year      tax    fips\n",
       "274677  3.0   2.0  2159.0  364577.0  1967.0  4517.62  6037.0\n",
       "283102  2.0   1.0  1072.0  162390.0  1954.0  1996.96  6037.0"
      ]
     },
     "execution_count": 6,
     "metadata": {},
     "output_type": "execute_result"
    }
   ],
   "source": [
    "train.head(2)"
   ]
  },
  {
   "cell_type": "markdown",
   "id": "3421fc26",
   "metadata": {},
   "source": [
    "## 2. Fit a linear regression model (ordinary least squares) and compute yhat, predictions of taxvaluedollarcnt using only calculatedfinishedsqft"
   ]
  },
  {
   "cell_type": "code",
   "execution_count": 7,
   "id": "ed3a64eb",
   "metadata": {},
   "outputs": [],
   "source": [
    "# x and y train series\n",
    "x_train = train[['sqft']]\n",
    "y_train = train.tax\n",
    "\n",
    "x_val = val[['sqft']]\n",
    "y_val = val.tax"
   ]
  },
  {
   "cell_type": "code",
   "execution_count": 8,
   "id": "ba72bfc7",
   "metadata": {},
   "outputs": [
    {
     "data": {
      "text/plain": [
       "5613.675068463801"
      ]
     },
     "execution_count": 8,
     "metadata": {},
     "output_type": "execute_result"
    }
   ],
   "source": [
    "y_train.mean()"
   ]
  },
  {
   "cell_type": "code",
   "execution_count": 9,
   "id": "b9af5f01",
   "metadata": {},
   "outputs": [],
   "source": [
    "train['baseline'] = y_train.mean()"
   ]
  },
  {
   "cell_type": "code",
   "execution_count": 10,
   "id": "f0c8770a",
   "metadata": {},
   "outputs": [],
   "source": [
    "# assuming X and y are already defined\n",
    "model = LinearRegression().fit(x_train, y_train)\n",
    "predictions = model.predict(x_train)"
   ]
  },
  {
   "cell_type": "code",
   "execution_count": 11,
   "id": "f42f36f6",
   "metadata": {},
   "outputs": [],
   "source": [
    "train['yhat'] = predictions"
   ]
  },
  {
   "cell_type": "code",
   "execution_count": 12,
   "id": "55bc0fcd",
   "metadata": {},
   "outputs": [
    {
     "data": {
      "text/html": [
       "<div>\n",
       "<style scoped>\n",
       "    .dataframe tbody tr th:only-of-type {\n",
       "        vertical-align: middle;\n",
       "    }\n",
       "\n",
       "    .dataframe tbody tr th {\n",
       "        vertical-align: top;\n",
       "    }\n",
       "\n",
       "    .dataframe thead th {\n",
       "        text-align: right;\n",
       "    }\n",
       "</style>\n",
       "<table border=\"1\" class=\"dataframe\">\n",
       "  <thead>\n",
       "    <tr style=\"text-align: right;\">\n",
       "      <th></th>\n",
       "      <th>bed</th>\n",
       "      <th>bath</th>\n",
       "      <th>sqft</th>\n",
       "      <th>value</th>\n",
       "      <th>year</th>\n",
       "      <th>tax</th>\n",
       "      <th>fips</th>\n",
       "      <th>baseline</th>\n",
       "      <th>yhat</th>\n",
       "    </tr>\n",
       "  </thead>\n",
       "  <tbody>\n",
       "    <tr>\n",
       "      <th>274677</th>\n",
       "      <td>3.0</td>\n",
       "      <td>2.0</td>\n",
       "      <td>2159.0</td>\n",
       "      <td>364577.0</td>\n",
       "      <td>1967.0</td>\n",
       "      <td>4517.62</td>\n",
       "      <td>6037.0</td>\n",
       "      <td>5613.675068</td>\n",
       "      <td>6399.205686</td>\n",
       "    </tr>\n",
       "    <tr>\n",
       "      <th>283102</th>\n",
       "      <td>2.0</td>\n",
       "      <td>1.0</td>\n",
       "      <td>1072.0</td>\n",
       "      <td>162390.0</td>\n",
       "      <td>1954.0</td>\n",
       "      <td>1996.96</td>\n",
       "      <td>6037.0</td>\n",
       "      <td>5613.675068</td>\n",
       "      <td>3514.292124</td>\n",
       "    </tr>\n",
       "    <tr>\n",
       "      <th>1088474</th>\n",
       "      <td>4.0</td>\n",
       "      <td>3.0</td>\n",
       "      <td>2643.0</td>\n",
       "      <td>189091.0</td>\n",
       "      <td>1971.0</td>\n",
       "      <td>2434.06</td>\n",
       "      <td>6037.0</td>\n",
       "      <td>5613.675068</td>\n",
       "      <td>7683.748615</td>\n",
       "    </tr>\n",
       "    <tr>\n",
       "      <th>2015167</th>\n",
       "      <td>3.0</td>\n",
       "      <td>1.0</td>\n",
       "      <td>1008.0</td>\n",
       "      <td>52554.0</td>\n",
       "      <td>1956.0</td>\n",
       "      <td>1276.09</td>\n",
       "      <td>6037.0</td>\n",
       "      <td>5613.675068</td>\n",
       "      <td>3344.435208</td>\n",
       "    </tr>\n",
       "    <tr>\n",
       "      <th>667420</th>\n",
       "      <td>4.0</td>\n",
       "      <td>3.5</td>\n",
       "      <td>3574.0</td>\n",
       "      <td>1057690.0</td>\n",
       "      <td>2007.0</td>\n",
       "      <td>20070.98</td>\n",
       "      <td>6111.0</td>\n",
       "      <td>5613.675068</td>\n",
       "      <td>10154.635943</td>\n",
       "    </tr>\n",
       "  </tbody>\n",
       "</table>\n",
       "</div>"
      ],
      "text/plain": [
       "         bed  bath    sqft      value    year       tax    fips     baseline  \\\n",
       "274677   3.0   2.0  2159.0   364577.0  1967.0   4517.62  6037.0  5613.675068   \n",
       "283102   2.0   1.0  1072.0   162390.0  1954.0   1996.96  6037.0  5613.675068   \n",
       "1088474  4.0   3.0  2643.0   189091.0  1971.0   2434.06  6037.0  5613.675068   \n",
       "2015167  3.0   1.0  1008.0    52554.0  1956.0   1276.09  6037.0  5613.675068   \n",
       "667420   4.0   3.5  3574.0  1057690.0  2007.0  20070.98  6111.0  5613.675068   \n",
       "\n",
       "                 yhat  \n",
       "274677    6399.205686  \n",
       "283102    3514.292124  \n",
       "1088474   7683.748615  \n",
       "2015167   3344.435208  \n",
       "667420   10154.635943  "
      ]
     },
     "execution_count": 12,
     "metadata": {},
     "output_type": "execute_result"
    }
   ],
   "source": [
    "train.head()"
   ]
  },
  {
   "cell_type": "markdown",
   "id": "569b0cdf",
   "metadata": {},
   "source": [
    "## 3. Plot the residuals for the linear regression model that you made."
   ]
  },
  {
   "cell_type": "code",
   "execution_count": 13,
   "id": "dd68f948",
   "metadata": {},
   "outputs": [],
   "source": [
    "train['residual'] = train.yhat - train.tax\n",
    "train['residual_baseline'] = train.baseline - train.tax"
   ]
  },
  {
   "cell_type": "code",
   "execution_count": 17,
   "id": "bab06fcb",
   "metadata": {
    "scrolled": true
   },
   "outputs": [
    {
     "ename": "NameError",
     "evalue": "name 'y_train' is not defined",
     "output_type": "error",
     "traceback": [
      "\u001b[0;31m---------------------------------------------------------------------------\u001b[0m",
      "\u001b[0;31mNameError\u001b[0m                                 Traceback (most recent call last)",
      "Cell \u001b[0;32mIn[17], line 1\u001b[0m\n\u001b[0;32m----> 1\u001b[0m \u001b[43mevaluate\u001b[49m\u001b[38;5;241;43m.\u001b[39;49m\u001b[43mregression_errors\u001b[49m\u001b[43m(\u001b[49m\u001b[43mtrain\u001b[49m\u001b[43m)\u001b[49m\n",
      "File \u001b[0;32m~/codeup-data-science/codeup_exercises/regression_exercises/evaluate.py:9\u001b[0m, in \u001b[0;36mregression_errors\u001b[0;34m(df)\u001b[0m\n\u001b[1;32m      8\u001b[0m \u001b[38;5;28;01mdef\u001b[39;00m \u001b[38;5;21mregression_errors\u001b[39m(df): \n\u001b[0;32m----> 9\u001b[0m     sns\u001b[38;5;241m.\u001b[39mscatterplot(data\u001b[38;5;241m=\u001b[39mdf,x\u001b[38;5;241m=\u001b[39m\u001b[43my_train\u001b[49m, y\u001b[38;5;241m=\u001b[39m\u001b[38;5;124m'\u001b[39m\u001b[38;5;124myhat\u001b[39m\u001b[38;5;124m'\u001b[39m)\n\u001b[1;32m     10\u001b[0m     plt\u001b[38;5;241m.\u001b[39maxhline(\u001b[38;5;241m0\u001b[39m, color\u001b[38;5;241m=\u001b[39m\u001b[38;5;124m'\u001b[39m\u001b[38;5;124mfirebrick\u001b[39m\u001b[38;5;124m'\u001b[39m)\n\u001b[1;32m     11\u001b[0m     plt\u001b[38;5;241m.\u001b[39mtitle(\u001b[38;5;124m\"\u001b[39m\u001b[38;5;124mModel Yhat Plot\u001b[39m\u001b[38;5;124m\"\u001b[39m)\n",
      "\u001b[0;31mNameError\u001b[0m: name 'y_train' is not defined"
     ]
    }
   ],
   "source": [
    "evaluate.regression_errors(train)"
   ]
  },
  {
   "cell_type": "code",
   "execution_count": 15,
   "id": "eca491d2",
   "metadata": {},
   "outputs": [
    {
     "data": {
      "text/html": [
       "<div>\n",
       "<style scoped>\n",
       "    .dataframe tbody tr th:only-of-type {\n",
       "        vertical-align: middle;\n",
       "    }\n",
       "\n",
       "    .dataframe tbody tr th {\n",
       "        vertical-align: top;\n",
       "    }\n",
       "\n",
       "    .dataframe thead th {\n",
       "        text-align: right;\n",
       "    }\n",
       "</style>\n",
       "<table border=\"1\" class=\"dataframe\">\n",
       "  <thead>\n",
       "    <tr style=\"text-align: right;\">\n",
       "      <th></th>\n",
       "      <th>bed</th>\n",
       "      <th>bath</th>\n",
       "      <th>sqft</th>\n",
       "      <th>value</th>\n",
       "      <th>year</th>\n",
       "      <th>tax</th>\n",
       "      <th>fips</th>\n",
       "      <th>baseline</th>\n",
       "      <th>yhat</th>\n",
       "      <th>residual</th>\n",
       "      <th>residual_baseline</th>\n",
       "    </tr>\n",
       "  </thead>\n",
       "  <tbody>\n",
       "    <tr>\n",
       "      <th>274677</th>\n",
       "      <td>3.0</td>\n",
       "      <td>2.0</td>\n",
       "      <td>2159.0</td>\n",
       "      <td>364577.0</td>\n",
       "      <td>1967.0</td>\n",
       "      <td>4517.62</td>\n",
       "      <td>6037.0</td>\n",
       "      <td>5613.675068</td>\n",
       "      <td>6399.205686</td>\n",
       "      <td>1881.585686</td>\n",
       "      <td>1096.055068</td>\n",
       "    </tr>\n",
       "    <tr>\n",
       "      <th>283102</th>\n",
       "      <td>2.0</td>\n",
       "      <td>1.0</td>\n",
       "      <td>1072.0</td>\n",
       "      <td>162390.0</td>\n",
       "      <td>1954.0</td>\n",
       "      <td>1996.96</td>\n",
       "      <td>6037.0</td>\n",
       "      <td>5613.675068</td>\n",
       "      <td>3514.292124</td>\n",
       "      <td>1517.332124</td>\n",
       "      <td>3616.715068</td>\n",
       "    </tr>\n",
       "  </tbody>\n",
       "</table>\n",
       "</div>"
      ],
      "text/plain": [
       "        bed  bath    sqft     value    year      tax    fips     baseline  \\\n",
       "274677  3.0   2.0  2159.0  364577.0  1967.0  4517.62  6037.0  5613.675068   \n",
       "283102  2.0   1.0  1072.0  162390.0  1954.0  1996.96  6037.0  5613.675068   \n",
       "\n",
       "               yhat     residual  residual_baseline  \n",
       "274677  6399.205686  1881.585686        1096.055068  \n",
       "283102  3514.292124  1517.332124        3616.715068  "
      ]
     },
     "execution_count": 15,
     "metadata": {},
     "output_type": "execute_result"
    }
   ],
   "source": [
    "train.head(2)"
   ]
  },
  {
   "cell_type": "code",
   "execution_count": 16,
   "id": "e70ff9e5",
   "metadata": {},
   "outputs": [
    {
     "data": {
      "text/plain": [
       "<Axes: xlabel='tax', ylabel='residual_baseline'>"
      ]
     },
     "execution_count": 16,
     "metadata": {},
     "output_type": "execute_result"
    },
    {
     "data": {
      "image/png": "[encoded data removed]",
      "text/plain": [
       "<Figure size 640x480 with 1 Axes>"
      ]
     },
     "metadata": {},
     "output_type": "display_data"
    }
   ],
   "source": [
    "sns.scatterplot(data=train,x=y_train, y='residual_baseline')"
   ]
  },
  {
   "cell_type": "code",
   "execution_count": null,
   "id": "047615d7",
   "metadata": {
    "scrolled": false
   },
   "outputs": [],
   "source": [
    "sns.scatterplot(data=train,x=y_train, y='residual')"
   ]
  },
  {
   "cell_type": "markdown",
   "id": "26d69b69",
   "metadata": {},
   "source": [
    "## 4. Calculate the sum of squared errors, explained sum of squares, total sum of squares, mean squared error, and root mean squared error for your model."
   ]
  },
  {
   "cell_type": "code",
   "execution_count": null,
   "id": "1f4f954b",
   "metadata": {},
   "outputs": [],
   "source": [
    "train.head(2)"
   ]
  },
  {
   "cell_type": "code",
   "execution_count": null,
   "id": "63938880",
   "metadata": {},
   "outputs": [],
   "source": [
    "sse = (train.residual **2).sum()\n",
    "sse"
   ]
  },
  {
   "cell_type": "code",
   "execution_count": null,
   "id": "61c17fe5",
   "metadata": {},
   "outputs": [],
   "source": [
    "ess = sum((train.yhat - train.tax.mean())**2)\n",
    "ess"
   ]
  },
  {
   "cell_type": "code",
   "execution_count": null,
   "id": "f418931b",
   "metadata": {},
   "outputs": [],
   "source": [
    "tss = ess + sse\n",
    "tss"
   ]
  },
  {
   "cell_type": "code",
   "execution_count": null,
   "id": "266407d3",
   "metadata": {},
   "outputs": [],
   "source": [
    "mse = sse/len(train)\n",
    "mse"
   ]
  },
  {
   "cell_type": "code",
   "execution_count": null,
   "id": "7e8e4bdf",
   "metadata": {},
   "outputs": [],
   "source": [
    "rsme = sqrt(mse)\n",
    "rsme"
   ]
  },
  {
   "cell_type": "markdown",
   "id": "d0291612",
   "metadata": {},
   "source": [
    "## 5. Calculate the sum of squared errors, mean squared error, and root mean squared error for the baseline model (i.e. a model that always predicts the average taxvaluedollarcnt amount)."
   ]
  },
  {
   "cell_type": "code",
   "execution_count": null,
   "id": "e6a6adcf",
   "metadata": {},
   "outputs": [],
   "source": [
    "train.head(2)"
   ]
  },
  {
   "cell_type": "code",
   "execution_count": null,
   "id": "7edfaecb",
   "metadata": {},
   "outputs": [],
   "source": [
    "sse_base = (train.residual_baseline **2).sum()\n",
    "sse_base"
   ]
  },
  {
   "cell_type": "code",
   "execution_count": null,
   "id": "ff868dd8",
   "metadata": {},
   "outputs": [],
   "source": [
    "ess_base = sum((train.baseline - train.tax.mean())**2)\n",
    "ess_base"
   ]
  },
  {
   "cell_type": "code",
   "execution_count": null,
   "id": "aeddf522",
   "metadata": {},
   "outputs": [],
   "source": [
    "tss_base = ess_base + sse_base\n",
    "tss_base"
   ]
  },
  {
   "cell_type": "code",
   "execution_count": null,
   "id": "3e0c1755",
   "metadata": {},
   "outputs": [],
   "source": [
    "mse_base = sse_base/len(train)\n",
    "mse_base"
   ]
  },
  {
   "cell_type": "code",
   "execution_count": null,
   "id": "147aae8e",
   "metadata": {},
   "outputs": [],
   "source": [
    "rsme_base = sqrt(mse_base)\n",
    "rsme_base"
   ]
  },
  {
   "cell_type": "markdown",
   "id": "c194f918",
   "metadata": {},
   "source": [
    "## 6. Write python code that compares the sum of squared errors for your model against the sum of squared errors for the baseline model and outputs whether or not your model performs better than the baseline model.\n",
    "\n"
   ]
  },
  {
   "cell_type": "code",
   "execution_count": null,
   "id": "3a2fe0ee",
   "metadata": {},
   "outputs": [],
   "source": [
    "if sse < sse_base:\n",
    "    print('Your model did better than baseline')\n",
    "print(sse - sse_base)"
   ]
  },
  {
   "cell_type": "markdown",
   "id": "ca4070df",
   "metadata": {},
   "source": [
    "## 7. What is the amount of variance explained in your model?"
   ]
  },
  {
   "cell_type": "code",
   "execution_count": null,
   "id": "77c7e5ed",
   "metadata": {},
   "outputs": [],
   "source": [
    "explained_variance_score(y_train,train.yhat)"
   ]
  },
  {
   "cell_type": "markdown",
   "id": "c85824ea",
   "metadata": {},
   "source": [
    "## 8. Is your model better than the baseline model?"
   ]
  },
  {
   "cell_type": "code",
   "execution_count": null,
   "id": "0c1a8956",
   "metadata": {},
   "outputs": [],
   "source": [
    "if sse < sse_base:\n",
    "    print('Your model did better than baseline')\n",
    "print(sse - sse_base)"
   ]
  },
  {
   "cell_type": "markdown",
   "id": "848216c4",
   "metadata": {},
   "source": [
    "## 9. Create a file named evaluate.py that contains the following functions.\n",
    "\n",
    "plot_residuals(y, yhat): creates a residual plot\n",
    "\n",
    "regression_errors(y, yhat): returns the following values:\n",
    "\n",
    "sum of squared errors (SSE)\n",
    "\n",
    "explained sum of squares (ESS)\n",
    "\n",
    "total sum of squares (TSS)\n",
    "\n",
    "mean squared error (MSE)\n",
    "\n",
    "root mean squared error (RMSE)\n",
    "\n",
    "baseline_mean_errors(y): computes the SSE, MSE, and RMSE for the baseline model\n",
    "\n",
    "better_than_baseline(y, yhat): returns true if your model performs better than the baseline, otherwise false\n"
   ]
  },
  {
   "cell_type": "code",
   "execution_count": null,
   "id": "5fa5381e",
   "metadata": {},
   "outputs": [],
   "source": []
  }
 ],
 "metadata": {
  "kernelspec": {
   "display_name": "Python 3 (ipykernel)",
   "language": "python",
   "name": "python3"
  },
  "language_info": {
   "codemirror_mode": {
    "name": "ipython",
    "version": 3
   },
   "file_extension": ".py",
   "mimetype": "text/x-python",
   "name": "python",
   "nbconvert_exporter": "python",
   "pygments_lexer": "ipython3",
   "version": "3.10.9"
  }
 },
 "nbformat": 4,
 "nbformat_minor": 5
}
