{
 "cells": [
  {
   "cell_type": "code",
   "execution_count": 2,
   "id": "5cdf321e",
   "metadata": {},
   "outputs": [],
   "source": [
    "import pandas as pd\n",
    "import numpy as np\n",
    "\n",
    "import matplotlib.pyplot as plt\n",
    "import seaborn as sns\n",
    "\n",
    "from wrangle import train_val_test\n",
    "from scipy import stats\n",
    "from sklearn.metrics import mean_squared_error, r2_score, explained_variance_score\n",
    "from sklearn.linear_model import LinearRegression\n",
    "from math import sqrt\n",
    "\n",
    "import wrangle \n",
    "import evaluate\n",
    "\n",
    "seed = 55"
   ]
  },
  {
   "cell_type": "markdown",
   "id": "80433c16",
   "metadata": {},
   "source": [
    "## 1. Load your zillow dataset."
   ]
  },
  {
   "cell_type": "code",
   "execution_count": 3,
   "id": "eadeaf4f",
   "metadata": {},
   "outputs": [],
   "source": [
    "zillow = wrangle.get_zillow()\n",
    "zillow = wrangle.drop_zill(zillow)"
   ]
  },
  {
   "cell_type": "code",
   "execution_count": 4,
   "id": "aff8e828",
   "metadata": {},
   "outputs": [],
   "source": [
    "train, val, test = wrangle.train_val_test(zillow)"
   ]
  },
  {
   "cell_type": "code",
   "execution_count": 5,
   "id": "e015abd8",
   "metadata": {},
   "outputs": [
    {
     "data": {
      "text/html": [
       "<div>\n",
       "<style scoped>\n",
       "    .dataframe tbody tr th:only-of-type {\n",
       "        vertical-align: middle;\n",
       "    }\n",
       "\n",
       "    .dataframe tbody tr th {\n",
       "        vertical-align: top;\n",
       "    }\n",
       "\n",
       "    .dataframe thead th {\n",
       "        text-align: right;\n",
       "    }\n",
       "</style>\n",
       "<table border=\"1\" class=\"dataframe\">\n",
       "  <thead>\n",
       "    <tr style=\"text-align: right;\">\n",
       "      <th></th>\n",
       "      <th>bed</th>\n",
       "      <th>bath</th>\n",
       "      <th>sqft</th>\n",
       "      <th>value</th>\n",
       "      <th>year</th>\n",
       "      <th>tax</th>\n",
       "      <th>fips</th>\n",
       "    </tr>\n",
       "  </thead>\n",
       "  <tbody>\n",
       "    <tr>\n",
       "      <th>274677</th>\n",
       "      <td>3.0</td>\n",
       "      <td>2.0</td>\n",
       "      <td>2159.0</td>\n",
       "      <td>364577.0</td>\n",
       "      <td>1967.0</td>\n",
       "      <td>4517.62</td>\n",
       "      <td>6037.0</td>\n",
       "    </tr>\n",
       "    <tr>\n",
       "      <th>283102</th>\n",
       "      <td>2.0</td>\n",
       "      <td>1.0</td>\n",
       "      <td>1072.0</td>\n",
       "      <td>162390.0</td>\n",
       "      <td>1954.0</td>\n",
       "      <td>1996.96</td>\n",
       "      <td>6037.0</td>\n",
       "    </tr>\n",
       "  </tbody>\n",
       "</table>\n",
       "</div>"
      ],
      "text/plain": [
       "        bed  bath    sqft     value    year      tax    fips\n",
       "274677  3.0   2.0  2159.0  364577.0  1967.0  4517.62  6037.0\n",
       "283102  2.0   1.0  1072.0  162390.0  1954.0  1996.96  6037.0"
      ]
     },
     "execution_count": 5,
     "metadata": {},
     "output_type": "execute_result"
    }
   ],
   "source": [
    "train.head(2)"
   ]
  },
  {
   "cell_type": "markdown",
   "id": "cd1f28ec",
   "metadata": {},
   "source": [
    "## 2. Fit a linear regression model (ordinary least squares) and compute yhat, predictions of taxvaluedollarcnt using only calculatedfinishedsqft"
   ]
  },
  {
   "cell_type": "code",
   "execution_count": 6,
   "id": "3a637a54",
   "metadata": {},
   "outputs": [],
   "source": [
    "# x and y train series\n",
    "x_train = train[['sqft']]\n",
    "y_train = train.tax\n",
    "\n",
    "x_val = val[['sqft']]\n",
    "y_val = val.tax"
   ]
  },
  {
   "cell_type": "code",
   "execution_count": 7,
   "id": "4e1b120b",
   "metadata": {},
   "outputs": [
    {
     "data": {
      "text/plain": [
       "5613.675068463801"
      ]
     },
     "execution_count": 7,
     "metadata": {},
     "output_type": "execute_result"
    }
   ],
   "source": [
    "y_train.mean()"
   ]
  },
  {
   "cell_type": "code",
   "execution_count": 8,
   "id": "a082f29f",
   "metadata": {},
   "outputs": [],
   "source": [
    "train['baseline'] = y_train.mean()"
   ]
  },
  {
   "cell_type": "code",
   "execution_count": 9,
   "id": "4354f461",
   "metadata": {},
   "outputs": [],
   "source": [
    "# assuming X and y are already defined\n",
    "model = LinearRegression().fit(x_train, y_train)\n",
    "predictions = model.predict(x_train)"
   ]
  },
  {
   "cell_type": "code",
   "execution_count": 10,
   "id": "84150c31",
   "metadata": {},
   "outputs": [],
   "source": [
    "train['yhat'] = predictions"
   ]
  },
  {
   "cell_type": "code",
   "execution_count": 11,
   "id": "66be81d5",
   "metadata": {},
   "outputs": [
    {
     "data": {
      "text/html": [
       "<div>\n",
       "<style scoped>\n",
       "    .dataframe tbody tr th:only-of-type {\n",
       "        vertical-align: middle;\n",
       "    }\n",
       "\n",
       "    .dataframe tbody tr th {\n",
       "        vertical-align: top;\n",
       "    }\n",
       "\n",
       "    .dataframe thead th {\n",
       "        text-align: right;\n",
       "    }\n",
       "</style>\n",
       "<table border=\"1\" class=\"dataframe\">\n",
       "  <thead>\n",
       "    <tr style=\"text-align: right;\">\n",
       "      <th></th>\n",
       "      <th>bed</th>\n",
       "      <th>bath</th>\n",
       "      <th>sqft</th>\n",
       "      <th>value</th>\n",
       "      <th>year</th>\n",
       "      <th>tax</th>\n",
       "      <th>fips</th>\n",
       "      <th>baseline</th>\n",
       "      <th>yhat</th>\n",
       "    </tr>\n",
       "  </thead>\n",
       "  <tbody>\n",
       "    <tr>\n",
       "      <th>274677</th>\n",
       "      <td>3.0</td>\n",
       "      <td>2.0</td>\n",
       "      <td>2159.0</td>\n",
       "      <td>364577.0</td>\n",
       "      <td>1967.0</td>\n",
       "      <td>4517.62</td>\n",
       "      <td>6037.0</td>\n",
       "      <td>5613.675068</td>\n",
       "      <td>6399.205686</td>\n",
       "    </tr>\n",
       "    <tr>\n",
       "      <th>283102</th>\n",
       "      <td>2.0</td>\n",
       "      <td>1.0</td>\n",
       "      <td>1072.0</td>\n",
       "      <td>162390.0</td>\n",
       "      <td>1954.0</td>\n",
       "      <td>1996.96</td>\n",
       "      <td>6037.0</td>\n",
       "      <td>5613.675068</td>\n",
       "      <td>3514.292124</td>\n",
       "    </tr>\n",
       "    <tr>\n",
       "      <th>1088474</th>\n",
       "      <td>4.0</td>\n",
       "      <td>3.0</td>\n",
       "      <td>2643.0</td>\n",
       "      <td>189091.0</td>\n",
       "      <td>1971.0</td>\n",
       "      <td>2434.06</td>\n",
       "      <td>6037.0</td>\n",
       "      <td>5613.675068</td>\n",
       "      <td>7683.748615</td>\n",
       "    </tr>\n",
       "    <tr>\n",
       "      <th>2015167</th>\n",
       "      <td>3.0</td>\n",
       "      <td>1.0</td>\n",
       "      <td>1008.0</td>\n",
       "      <td>52554.0</td>\n",
       "      <td>1956.0</td>\n",
       "      <td>1276.09</td>\n",
       "      <td>6037.0</td>\n",
       "      <td>5613.675068</td>\n",
       "      <td>3344.435208</td>\n",
       "    </tr>\n",
       "    <tr>\n",
       "      <th>667420</th>\n",
       "      <td>4.0</td>\n",
       "      <td>3.5</td>\n",
       "      <td>3574.0</td>\n",
       "      <td>1057690.0</td>\n",
       "      <td>2007.0</td>\n",
       "      <td>20070.98</td>\n",
       "      <td>6111.0</td>\n",
       "      <td>5613.675068</td>\n",
       "      <td>10154.635943</td>\n",
       "    </tr>\n",
       "  </tbody>\n",
       "</table>\n",
       "</div>"
      ],
      "text/plain": [
       "         bed  bath    sqft      value    year       tax    fips     baseline  \\\n",
       "274677   3.0   2.0  2159.0   364577.0  1967.0   4517.62  6037.0  5613.675068   \n",
       "283102   2.0   1.0  1072.0   162390.0  1954.0   1996.96  6037.0  5613.675068   \n",
       "1088474  4.0   3.0  2643.0   189091.0  1971.0   2434.06  6037.0  5613.675068   \n",
       "2015167  3.0   1.0  1008.0    52554.0  1956.0   1276.09  6037.0  5613.675068   \n",
       "667420   4.0   3.5  3574.0  1057690.0  2007.0  20070.98  6111.0  5613.675068   \n",
       "\n",
       "                 yhat  \n",
       "274677    6399.205686  \n",
       "283102    3514.292124  \n",
       "1088474   7683.748615  \n",
       "2015167   3344.435208  \n",
       "667420   10154.635943  "
      ]
     },
     "execution_count": 11,
     "metadata": {},
     "output_type": "execute_result"
    }
   ],
   "source": [
    "train.head()"
   ]
  },
  {
   "cell_type": "markdown",
   "id": "daa7aae9",
   "metadata": {},
   "source": [
    "## 3. Plot the residuals for the linear regression model that you made."
   ]
  },
  {
   "cell_type": "code",
   "execution_count": 12,
   "id": "dcd9bd2d",
   "metadata": {},
   "outputs": [],
   "source": [
    "train['residual'] = train.yhat - train.tax\n",
    "train['residual_baseline'] = train.baseline - train.tax"
   ]
  },
  {
   "cell_type": "code",
   "execution_count": 13,
   "id": "03f282b5",
   "metadata": {},
   "outputs": [
    {
     "data": {
      "text/html": [
       "<div>\n",
       "<style scoped>\n",
       "    .dataframe tbody tr th:only-of-type {\n",
       "        vertical-align: middle;\n",
       "    }\n",
       "\n",
       "    .dataframe tbody tr th {\n",
       "        vertical-align: top;\n",
       "    }\n",
       "\n",
       "    .dataframe thead th {\n",
       "        text-align: right;\n",
       "    }\n",
       "</style>\n",
       "<table border=\"1\" class=\"dataframe\">\n",
       "  <thead>\n",
       "    <tr style=\"text-align: right;\">\n",
       "      <th></th>\n",
       "      <th>bed</th>\n",
       "      <th>bath</th>\n",
       "      <th>sqft</th>\n",
       "      <th>value</th>\n",
       "      <th>year</th>\n",
       "      <th>tax</th>\n",
       "      <th>fips</th>\n",
       "      <th>baseline</th>\n",
       "      <th>yhat</th>\n",
       "      <th>residual</th>\n",
       "      <th>residual_baseline</th>\n",
       "    </tr>\n",
       "  </thead>\n",
       "  <tbody>\n",
       "    <tr>\n",
       "      <th>274677</th>\n",
       "      <td>3.0</td>\n",
       "      <td>2.0</td>\n",
       "      <td>2159.0</td>\n",
       "      <td>364577.0</td>\n",
       "      <td>1967.0</td>\n",
       "      <td>4517.62</td>\n",
       "      <td>6037.0</td>\n",
       "      <td>5613.675068</td>\n",
       "      <td>6399.205686</td>\n",
       "      <td>1881.585686</td>\n",
       "      <td>1096.055068</td>\n",
       "    </tr>\n",
       "    <tr>\n",
       "      <th>283102</th>\n",
       "      <td>2.0</td>\n",
       "      <td>1.0</td>\n",
       "      <td>1072.0</td>\n",
       "      <td>162390.0</td>\n",
       "      <td>1954.0</td>\n",
       "      <td>1996.96</td>\n",
       "      <td>6037.0</td>\n",
       "      <td>5613.675068</td>\n",
       "      <td>3514.292124</td>\n",
       "      <td>1517.332124</td>\n",
       "      <td>3616.715068</td>\n",
       "    </tr>\n",
       "  </tbody>\n",
       "</table>\n",
       "</div>"
      ],
      "text/plain": [
       "        bed  bath    sqft     value    year      tax    fips     baseline  \\\n",
       "274677  3.0   2.0  2159.0  364577.0  1967.0  4517.62  6037.0  5613.675068   \n",
       "283102  2.0   1.0  1072.0  162390.0  1954.0  1996.96  6037.0  5613.675068   \n",
       "\n",
       "               yhat     residual  residual_baseline  \n",
       "274677  6399.205686  1881.585686        1096.055068  \n",
       "283102  3514.292124  1517.332124        3616.715068  "
      ]
     },
     "execution_count": 13,
     "metadata": {},
     "output_type": "execute_result"
    }
   ],
   "source": [
    "train.head(2)"
   ]
  },
  {
   "cell_type": "code",
   "execution_count": 14,
   "id": "5b80b784",
   "metadata": {},
   "outputs": [
    {
     "data": {
      "text/plain": [
       "<Axes: xlabel='tax', ylabel='residual_baseline'>"
      ]
     },
     "execution_count": 14,
     "metadata": {},
     "output_type": "execute_result"
    },
    {
     "data": {
      "image/png": "[encoded data removed]",
      "text/plain": [
       "<Figure size 640x480 with 1 Axes>"
      ]
     },
     "metadata": {},
     "output_type": "display_data"
    }
   ],
   "source": [
    "sns.scatterplot(data=train,x=y_train, y='residual_baseline')"
   ]
  },
  {
   "cell_type": "code",
   "execution_count": 15,
   "id": "e697d89c",
   "metadata": {
    "scrolled": false
   },
   "outputs": [
    {
     "data": {
      "text/plain": [
       "<Axes: xlabel='tax', ylabel='residual'>"
      ]
     },
     "execution_count": 15,
     "metadata": {},
     "output_type": "execute_result"
    },
    {
     "data": {
      "image/png": "[encoded data removed]",
      "text/plain": [
       "<Figure size 640x480 with 1 Axes>"
      ]
     },
     "metadata": {},
     "output_type": "display_data"
    }
   ],
   "source": [
    "sns.scatterplot(data=train,x=y_train, y='residual')"
   ]
  },
  {
   "cell_type": "markdown",
   "id": "7cd088b2",
   "metadata": {},
   "source": [
    "## 4. Calculate the sum of squared errors, explained sum of squares, total sum of squares, mean squared error, and root mean squared error for your model."
   ]
  },
  {
   "cell_type": "code",
   "execution_count": 16,
   "id": "e81e409a",
   "metadata": {},
   "outputs": [
    {
     "data": {
      "text/html": [
       "<div>\n",
       "<style scoped>\n",
       "    .dataframe tbody tr th:only-of-type {\n",
       "        vertical-align: middle;\n",
       "    }\n",
       "\n",
       "    .dataframe tbody tr th {\n",
       "        vertical-align: top;\n",
       "    }\n",
       "\n",
       "    .dataframe thead th {\n",
       "        text-align: right;\n",
       "    }\n",
       "</style>\n",
       "<table border=\"1\" class=\"dataframe\">\n",
       "  <thead>\n",
       "    <tr style=\"text-align: right;\">\n",
       "      <th></th>\n",
       "      <th>bed</th>\n",
       "      <th>bath</th>\n",
       "      <th>sqft</th>\n",
       "      <th>value</th>\n",
       "      <th>year</th>\n",
       "      <th>tax</th>\n",
       "      <th>fips</th>\n",
       "      <th>baseline</th>\n",
       "      <th>yhat</th>\n",
       "      <th>residual</th>\n",
       "      <th>residual_baseline</th>\n",
       "    </tr>\n",
       "  </thead>\n",
       "  <tbody>\n",
       "    <tr>\n",
       "      <th>274677</th>\n",
       "      <td>3.0</td>\n",
       "      <td>2.0</td>\n",
       "      <td>2159.0</td>\n",
       "      <td>364577.0</td>\n",
       "      <td>1967.0</td>\n",
       "      <td>4517.62</td>\n",
       "      <td>6037.0</td>\n",
       "      <td>5613.675068</td>\n",
       "      <td>6399.205686</td>\n",
       "      <td>1881.585686</td>\n",
       "      <td>1096.055068</td>\n",
       "    </tr>\n",
       "    <tr>\n",
       "      <th>283102</th>\n",
       "      <td>2.0</td>\n",
       "      <td>1.0</td>\n",
       "      <td>1072.0</td>\n",
       "      <td>162390.0</td>\n",
       "      <td>1954.0</td>\n",
       "      <td>1996.96</td>\n",
       "      <td>6037.0</td>\n",
       "      <td>5613.675068</td>\n",
       "      <td>3514.292124</td>\n",
       "      <td>1517.332124</td>\n",
       "      <td>3616.715068</td>\n",
       "    </tr>\n",
       "  </tbody>\n",
       "</table>\n",
       "</div>"
      ],
      "text/plain": [
       "        bed  bath    sqft     value    year      tax    fips     baseline  \\\n",
       "274677  3.0   2.0  2159.0  364577.0  1967.0  4517.62  6037.0  5613.675068   \n",
       "283102  2.0   1.0  1072.0  162390.0  1954.0  1996.96  6037.0  5613.675068   \n",
       "\n",
       "               yhat     residual  residual_baseline  \n",
       "274677  6399.205686  1881.585686        1096.055068  \n",
       "283102  3514.292124  1517.332124        3616.715068  "
      ]
     },
     "execution_count": 16,
     "metadata": {},
     "output_type": "execute_result"
    }
   ],
   "source": [
    "train.head(2)"
   ]
  },
  {
   "cell_type": "code",
   "execution_count": 17,
   "id": "7cf4dc55",
   "metadata": {},
   "outputs": [
    {
     "data": {
      "text/plain": [
       "73122343442408.48"
      ]
     },
     "execution_count": 17,
     "metadata": {},
     "output_type": "execute_result"
    }
   ],
   "source": [
    "sse = (train.residual **2).sum()\n",
    "sse"
   ]
  },
  {
   "cell_type": "code",
   "execution_count": 18,
   "id": "8580100f",
   "metadata": {},
   "outputs": [
    {
     "data": {
      "text/plain": [
       "18249881794442.543"
      ]
     },
     "execution_count": 18,
     "metadata": {},
     "output_type": "execute_result"
    }
   ],
   "source": [
    "ess = sum((train.yhat - train.tax.mean())**2)\n",
    "ess"
   ]
  },
  {
   "cell_type": "code",
   "execution_count": 19,
   "id": "a948f3e8",
   "metadata": {},
   "outputs": [
    {
     "data": {
      "text/plain": [
       "91372225236851.03"
      ]
     },
     "execution_count": 19,
     "metadata": {},
     "output_type": "execute_result"
    }
   ],
   "source": [
    "tss = ess + sse\n",
    "tss"
   ]
  },
  {
   "cell_type": "code",
   "execution_count": 20,
   "id": "aee8908c",
   "metadata": {},
   "outputs": [
    {
     "data": {
      "text/plain": [
       "48807969.9167838"
      ]
     },
     "execution_count": 20,
     "metadata": {},
     "output_type": "execute_result"
    }
   ],
   "source": [
    "mse = sse/len(train)\n",
    "mse"
   ]
  },
  {
   "cell_type": "code",
   "execution_count": 21,
   "id": "4de8d85d",
   "metadata": {},
   "outputs": [
    {
     "data": {
      "text/plain": [
       "6986.270100474488"
      ]
     },
     "execution_count": 21,
     "metadata": {},
     "output_type": "execute_result"
    }
   ],
   "source": [
    "rsme = sqrt(mse)\n",
    "rsme"
   ]
  },
  {
   "cell_type": "markdown",
   "id": "e65f18e5",
   "metadata": {},
   "source": [
    "## 5. Calculate the sum of squared errors, mean squared error, and root mean squared error for the baseline model (i.e. a model that always predicts the average taxvaluedollarcnt amount)."
   ]
  },
  {
   "cell_type": "code",
   "execution_count": 22,
   "id": "89b9ca8d",
   "metadata": {},
   "outputs": [
    {
     "data": {
      "text/html": [
       "<div>\n",
       "<style scoped>\n",
       "    .dataframe tbody tr th:only-of-type {\n",
       "        vertical-align: middle;\n",
       "    }\n",
       "\n",
       "    .dataframe tbody tr th {\n",
       "        vertical-align: top;\n",
       "    }\n",
       "\n",
       "    .dataframe thead th {\n",
       "        text-align: right;\n",
       "    }\n",
       "</style>\n",
       "<table border=\"1\" class=\"dataframe\">\n",
       "  <thead>\n",
       "    <tr style=\"text-align: right;\">\n",
       "      <th></th>\n",
       "      <th>bed</th>\n",
       "      <th>bath</th>\n",
       "      <th>sqft</th>\n",
       "      <th>value</th>\n",
       "      <th>year</th>\n",
       "      <th>tax</th>\n",
       "      <th>fips</th>\n",
       "      <th>baseline</th>\n",
       "      <th>yhat</th>\n",
       "      <th>residual</th>\n",
       "      <th>residual_baseline</th>\n",
       "    </tr>\n",
       "  </thead>\n",
       "  <tbody>\n",
       "    <tr>\n",
       "      <th>274677</th>\n",
       "      <td>3.0</td>\n",
       "      <td>2.0</td>\n",
       "      <td>2159.0</td>\n",
       "      <td>364577.0</td>\n",
       "      <td>1967.0</td>\n",
       "      <td>4517.62</td>\n",
       "      <td>6037.0</td>\n",
       "      <td>5613.675068</td>\n",
       "      <td>6399.205686</td>\n",
       "      <td>1881.585686</td>\n",
       "      <td>1096.055068</td>\n",
       "    </tr>\n",
       "    <tr>\n",
       "      <th>283102</th>\n",
       "      <td>2.0</td>\n",
       "      <td>1.0</td>\n",
       "      <td>1072.0</td>\n",
       "      <td>162390.0</td>\n",
       "      <td>1954.0</td>\n",
       "      <td>1996.96</td>\n",
       "      <td>6037.0</td>\n",
       "      <td>5613.675068</td>\n",
       "      <td>3514.292124</td>\n",
       "      <td>1517.332124</td>\n",
       "      <td>3616.715068</td>\n",
       "    </tr>\n",
       "  </tbody>\n",
       "</table>\n",
       "</div>"
      ],
      "text/plain": [
       "        bed  bath    sqft     value    year      tax    fips     baseline  \\\n",
       "274677  3.0   2.0  2159.0  364577.0  1967.0  4517.62  6037.0  5613.675068   \n",
       "283102  2.0   1.0  1072.0  162390.0  1954.0  1996.96  6037.0  5613.675068   \n",
       "\n",
       "               yhat     residual  residual_baseline  \n",
       "274677  6399.205686  1881.585686        1096.055068  \n",
       "283102  3514.292124  1517.332124        3616.715068  "
      ]
     },
     "execution_count": 22,
     "metadata": {},
     "output_type": "execute_result"
    }
   ],
   "source": [
    "train.head(2)"
   ]
  },
  {
   "cell_type": "code",
   "execution_count": 23,
   "id": "e88d5258",
   "metadata": {},
   "outputs": [
    {
     "data": {
      "text/plain": [
       "91372225236846.42"
      ]
     },
     "execution_count": 23,
     "metadata": {},
     "output_type": "execute_result"
    }
   ],
   "source": [
    "sse_base = (train.residual_baseline **2).sum()\n",
    "sse_base"
   ]
  },
  {
   "cell_type": "code",
   "execution_count": 24,
   "id": "55669721",
   "metadata": {},
   "outputs": [
    {
     "data": {
      "text/plain": [
       "0.0"
      ]
     },
     "execution_count": 24,
     "metadata": {},
     "output_type": "execute_result"
    }
   ],
   "source": [
    "ess_base = sum((train.baseline - train.tax.mean())**2)\n",
    "ess_base"
   ]
  },
  {
   "cell_type": "code",
   "execution_count": 25,
   "id": "5ae043f7",
   "metadata": {},
   "outputs": [
    {
     "data": {
      "text/plain": [
       "91372225236846.42"
      ]
     },
     "execution_count": 25,
     "metadata": {},
     "output_type": "execute_result"
    }
   ],
   "source": [
    "tss_base = ess_base + sse_base\n",
    "tss_base"
   ]
  },
  {
   "cell_type": "code",
   "execution_count": 26,
   "id": "a2a4b9d3",
   "metadata": {},
   "outputs": [
    {
     "data": {
      "text/plain": [
       "60989467.93331466"
      ]
     },
     "execution_count": 26,
     "metadata": {},
     "output_type": "execute_result"
    }
   ],
   "source": [
    "mse_base = sse_base/len(train)\n",
    "mse_base"
   ]
  },
  {
   "cell_type": "code",
   "execution_count": 27,
   "id": "27549c1d",
   "metadata": {},
   "outputs": [
    {
     "data": {
      "text/plain": [
       "7809.575400322008"
      ]
     },
     "execution_count": 27,
     "metadata": {},
     "output_type": "execute_result"
    }
   ],
   "source": [
    "rsme_base = sqrt(mse_base)\n",
    "rsme_base"
   ]
  },
  {
   "cell_type": "markdown",
   "id": "b816c026",
   "metadata": {},
   "source": [
    "## 6. Write python code that compares the sum of squared errors for your model against the sum of squared errors for the baseline model and outputs whether or not your model performs better than the baseline model.\n",
    "\n"
   ]
  },
  {
   "cell_type": "code",
   "execution_count": 28,
   "id": "3259e3b2",
   "metadata": {},
   "outputs": [
    {
     "name": "stdout",
     "output_type": "stream",
     "text": [
      "Your model did better than baseline\n",
      "-18249881794437.938\n"
     ]
    }
   ],
   "source": [
    "if sse < sse_base:\n",
    "    print('Your model did better than baseline')\n",
    "print(sse - sse_base)"
   ]
  },
  {
   "cell_type": "markdown",
   "id": "6baf50d7",
   "metadata": {},
   "source": [
    "## 7. What is the amount of variance explained in your model?"
   ]
  },
  {
   "cell_type": "code",
   "execution_count": 29,
   "id": "6ebeeb6c",
   "metadata": {},
   "outputs": [
    {
     "data": {
      "text/plain": [
       "0.19973117374708038"
      ]
     },
     "execution_count": 29,
     "metadata": {},
     "output_type": "execute_result"
    }
   ],
   "source": [
    "explained_variance_score(y_train,train.yhat)"
   ]
  },
  {
   "cell_type": "markdown",
   "id": "1a1233d2",
   "metadata": {},
   "source": [
    "## 8. Is your model better than the baseline model?"
   ]
  },
  {
   "cell_type": "code",
   "execution_count": 30,
   "id": "46be1476",
   "metadata": {},
   "outputs": [
    {
     "name": "stdout",
     "output_type": "stream",
     "text": [
      "Your model did better than baseline\n",
      "-18249881794437.938\n"
     ]
    }
   ],
   "source": [
    "if sse < sse_base:\n",
    "    print('Your model did better than baseline')\n",
    "print(sse - sse_base)"
   ]
  },
  {
   "cell_type": "markdown",
   "id": "8018481a",
   "metadata": {},
   "source": [
    "## 9. Create a file named evaluate.py that contains the following functions.\n",
    "\n",
    "plot_residuals(y, yhat): creates a residual plot\n",
    "\n",
    "regression_errors(y, yhat): returns the following values:\n",
    "\n",
    "sum of squared errors (SSE)\n",
    "\n",
    "explained sum of squares (ESS)\n",
    "\n",
    "total sum of squares (TSS)\n",
    "\n",
    "mean squared error (MSE)\n",
    "\n",
    "root mean squared error (RMSE)\n",
    "\n",
    "baseline_mean_errors(y): computes the SSE, MSE, and RMSE for the baseline model\n",
    "\n",
    "better_than_baseline(y, yhat): returns true if your model performs better than the baseline, otherwise false\n"
   ]
  },
  {
   "cell_type": "code",
   "execution_count": 32,
   "id": "f84d1df8",
   "metadata": {},
   "outputs": [],
   "source": [
    "import evaluate.py"
   ]
  }
 ],
 "metadata": {
  "kernelspec": {
   "display_name": "Python 3 (ipykernel)",
   "language": "python",
   "name": "python3"
  },
  "language_info": {
   "codemirror_mode": {
    "name": "ipython",
    "version": 3
   },
   "file_extension": ".py",
   "mimetype": "text/x-python",
   "name": "python",
   "nbconvert_exporter": "python",
   "pygments_lexer": "ipython3",
   "version": "3.10.9"
  }
 },
 "nbformat": 4,
 "nbformat_minor": 5
}
