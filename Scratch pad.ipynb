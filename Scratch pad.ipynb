{
 "cells": [
  {
   "cell_type": "code",
   "execution_count": 2,
   "id": "99c5a76e",
   "metadata": {
    "scrolled": true
   },
   "outputs": [],
   "source": [
    "a = '10.9.9'\n",
    "b = '10.9.8'"
   ]
  },
  {
   "cell_type": "code",
   "execution_count": 4,
   "id": "13bf0ce2",
   "metadata": {},
   "outputs": [],
   "source": [
    "l = a.split('.')"
   ]
  },
  {
   "cell_type": "code",
   "execution_count": 5,
   "id": "0e46d39b",
   "metadata": {},
   "outputs": [
    {
     "data": {
      "text/plain": [
       "['10', '9', '9']"
      ]
     },
     "execution_count": 5,
     "metadata": {},
     "output_type": "execute_result"
    }
   ],
   "source": [
    "l"
   ]
  },
  {
   "cell_type": "code",
   "execution_count": null,
   "id": "7fd7f62d",
   "metadata": {},
   "outputs": [],
   "source": [
    " \tGoal\n",
    "You are given a string s with letters and digits. You need to output on one line the string without digits. And on the second line the sum of all the digits in the string\n",
    "\n",
    "Note :\n",
    "Digits will always be positive integers.\n",
    "If you have 2 digits in a row : you have to sum them\n",
    "Example :\n",
    "23a5 -> 2+3+5 = 10\n",
    "\n",
    "Input\n",
    "Line 1: A string, s\n",
    "Output\n",
    "Line 1: The string without digits\n",
    "Line 2: The sum of all digits in the string\n",
    "Constraints\n",
    "1≤ length of s < 256\n",
    "Atleast one digit in s\n",
    "Example\n",
    "Input\n",
    "H3e1llo0 W8or2ld !\n",
    "\n",
    "H3e1llo0 W8or2ld !\n",
    "Output\n",
    "Hello World !\n",
    "14"
   ]
  },
  {
   "cell_type": "markdown",
   "id": "0c0723b5",
   "metadata": {},
   "source": [
    "### problem set\n",
    "Your work has tasked you with sorting out some issues with the member numbers. All members should have a unique member number. The problem is someone has created a bunch of duplicate member numbers in your database. You have an incomplete copy of some SQL output from the database table for members. It shows at least the ID and the MEMBER_NUMBER for each member. All of the IDs will be unique. Your job is to return all sets of IDs from members with duplicated MEMBER_NUMBERs.\n",
    "\n",
    "Here is an example of the SQL input:\n",
    "5\n",
    "ID,MEMBER_NUMBER\n",
    "1,123456789\n",
    "2,123456780\n",
    "3,123456780\n",
    "4,987654321\n",
    "5,123456789\n",
    "\n",
    "The SQL input shows two different sets of rows that have duplicated MEMBER_NUMBERs. Our outputs should be the IDs of the duplicated rows sorted by the smallest ID in the set, with the smaller ID listed first and the set separated by a comma. The desired output for the above input would be:\n",
    "1,5\n",
    "2,3\n",
    "\n",
    "If there are no duplicates, return \"NONE\".\n",
    "There may be additional SQL columns that can be ignored.\n",
    "Input\n",
    "Line 1: an integer COUNT signifying the number of data rows in the input\n",
    "Line 2: a string of N HEADERS separated by commas\n",
    "Next COUNT lines: rows of N pieces of member data as strings separated by comma with no additional white space.\n",
    "Output\n",
    "M rows of strings of two IDs separated by a comma, that correspond to rows that had duplicate MEMBER_NUMBERs.\n",
    "If no duplicates exist, then a single string “NONE”.\n",
    "Constraints\n",
    "2 ≤ COUNT ≤ 100\n",
    "Example\n",
    "Input\n",
    "5\n",
    "ID,MEMBER_NUMBER\n",
    "1,123456789\n",
    "2,123456780\n",
    "3,123456780\n",
    "4,987654321\n",
    "5,123456789\n",
    "Output\n",
    "1,5\n",
    "2,3"
   ]
  },
  {
   "cell_type": "code",
   "execution_count": null,
   "id": "d703d6b4",
   "metadata": {},
   "outputs": [],
   "source": [
    "# sample code that solved above with 80% accuracy\n",
    "import pandas as P\n",
    "G=sorted(\",\".join(map(str,sorted(g[\"ID\"].tolist())))for _,g in P.read_csv(open(0),skiprows=1).groupby(\"MEMBER_NUMBER\")if len(g)>1)\n",
    "G or-print(\"NONE\")\n",
    "for g in G:print(g)"
   ]
  },
  {
   "cell_type": "code",
   "execution_count": null,
   "id": "f82243bd",
   "metadata": {},
   "outputs": [],
   "source": []
  },
  {
   "cell_type": "code",
   "execution_count": null,
   "id": "a8967099",
   "metadata": {},
   "outputs": [],
   "source": []
  }
 ],
 "metadata": {
  "kernelspec": {
   "display_name": "Python 3 (ipykernel)",
   "language": "python",
   "name": "python3"
  },
  "language_info": {
   "codemirror_mode": {
    "name": "ipython",
    "version": 3
   },
   "file_extension": ".py",
   "mimetype": "text/x-python",
   "name": "python",
   "nbconvert_exporter": "python",
   "pygments_lexer": "ipython3",
   "version": "3.10.9"
  }
 },
 "nbformat": 4,
 "nbformat_minor": 5
}
