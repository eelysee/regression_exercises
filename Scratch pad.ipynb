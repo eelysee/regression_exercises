{
 "cells": [
  {
   "cell_type": "code",
   "execution_count": 2,
   "id": "ef8fc106",
   "metadata": {
    "scrolled": true
   },
   "outputs": [],
   "source": [
    "a = '10.9.9'\n",
    "b = '10.9.8'"
   ]
  },
  {
   "cell_type": "code",
   "execution_count": 4,
   "id": "32009c68",
   "metadata": {},
   "outputs": [],
   "source": [
    "l = a.split('.')"
   ]
  },
  {
   "cell_type": "code",
   "execution_count": 5,
   "id": "674a0b49",
   "metadata": {},
   "outputs": [
    {
     "data": {
      "text/plain": [
       "['10', '9', '9']"
      ]
     },
     "execution_count": 5,
     "metadata": {},
     "output_type": "execute_result"
    }
   ],
   "source": [
    "l"
   ]
  },
  {
   "cell_type": "code",
   "execution_count": null,
   "id": "1a38c148",
   "metadata": {},
   "outputs": [],
   "source": [
    " \tGoal\n",
    "You are given a string s with letters and digits. You need to output on one line the string without digits. And on the second line the sum of all the digits in the string\n",
    "\n",
    "Note :\n",
    "Digits will always be positive integers.\n",
    "If you have 2 digits in a row : you have to sum them\n",
    "Example :\n",
    "23a5 -> 2+3+5 = 10\n",
    "\n",
    "Input\n",
    "Line 1: A string, s\n",
    "Output\n",
    "Line 1: The string without digits\n",
    "Line 2: The sum of all digits in the string\n",
    "Constraints\n",
    "1≤ length of s < 256\n",
    "Atleast one digit in s\n",
    "Example\n",
    "Input\n",
    "H3e1llo0 W8or2ld !\n",
    "\n",
    "H3e1llo0 W8or2ld !\n",
    "Output\n",
    "Hello World !\n",
    "14"
   ]
  },
  {
   "cell_type": "markdown",
   "id": "39528a6d",
   "metadata": {},
   "source": [
    "### problem set\n",
    "Your work has tasked you with sorting out some issues with the member numbers. All members should have a unique member number. The problem is someone has created a bunch of duplicate member numbers in your database. You have an incomplete copy of some SQL output from the database table for members. It shows at least the ID and the MEMBER_NUMBER for each member. All of the IDs will be unique. Your job is to return all sets of IDs from members with duplicated MEMBER_NUMBERs.\n",
    "\n",
    "Here is an example of the SQL input:\n",
    "5\n",
    "ID,MEMBER_NUMBER\n",
    "1,123456789\n",
    "2,123456780\n",
    "3,123456780\n",
    "4,987654321\n",
    "5,123456789\n",
    "\n",
    "The SQL input shows two different sets of rows that have duplicated MEMBER_NUMBERs. Our outputs should be the IDs of the duplicated rows sorted by the smallest ID in the set, with the smaller ID listed first and the set separated by a comma. The desired output for the above input would be:\n",
    "1,5\n",
    "2,3\n",
    "\n",
    "If there are no duplicates, return \"NONE\".\n",
    "There may be additional SQL columns that can be ignored.\n",
    "Input\n",
    "Line 1: an integer COUNT signifying the number of data rows in the input\n",
    "Line 2: a string of N HEADERS separated by commas\n",
    "Next COUNT lines: rows of N pieces of member data as strings separated by comma with no additional white space.\n",
    "Output\n",
    "M rows of strings of two IDs separated by a comma, that correspond to rows that had duplicate MEMBER_NUMBERs.\n",
    "If no duplicates exist, then a single string “NONE”.\n",
    "Constraints\n",
    "2 ≤ COUNT ≤ 100\n",
    "Example\n",
    "Input\n",
    "5\n",
    "ID,MEMBER_NUMBER\n",
    "1,123456789\n",
    "2,123456780\n",
    "3,123456780\n",
    "4,987654321\n",
    "5,123456789\n",
    "Output\n",
    "1,5\n",
    "2,3"
   ]
  },
  {
   "cell_type": "code",
   "execution_count": null,
   "id": "40d696f5",
   "metadata": {},
   "outputs": [],
   "source": [
    "# sample code that solved above with 80% accuracy\n",
    "import pandas as P\n",
    "G=sorted(\",\".join(map(str,sorted(g[\"ID\"].tolist())))for _,g in P.read_csv(open(0),skiprows=1).groupby(\"MEMBER_NUMBER\")if len(g)>1)\n",
    "G or-print(\"NONE\")\n",
    "for g in G:print(g)"
   ]
  },
  {
   "cell_type": "code",
   "execution_count": 8,
   "id": "9948c4e2",
   "metadata": {},
   "outputs": [
    {
     "name": "stdout",
     "output_type": "stream",
     "text": [
      "5\n",
      "1\n",
      "2 3\n",
      "4 5 6\n",
      "7 8 9 10\n",
      "11 12 13 14 15\n"
     ]
    }
   ],
   "source": [
    "n = int(input())\n",
    "\n",
    "j=1\n",
    "\n",
    "for i in range(n):\n",
    "    print(*range(j,j+i+1))\n",
    "    j+=i+1"
   ]
  },
  {
   "cell_type": "code",
   "execution_count": 17,
   "id": "4b9da6af",
   "metadata": {},
   "outputs": [
    {
     "name": "stdout",
     "output_type": "stream",
     "text": [
      "3 2 1\n"
     ]
    }
   ],
   "source": [
    "nums = [1, 2, 3]\n",
    "# Your code here\n",
    "print(*nums[::-1])"
   ]
  },
  {
   "cell_type": "code",
   "execution_count": 18,
   "id": "ab322512",
   "metadata": {},
   "outputs": [
    {
     "data": {
      "text/plain": [
       "[1, 2, 3, 4, 5, 6]"
      ]
     },
     "execution_count": 18,
     "metadata": {},
     "output_type": "execute_result"
    }
   ],
   "source": [
    "list1 = [1, 2, 3]\n",
    "list2 = [4, 5, 6]\n",
    "# Your code here\n",
    "list1 + list2"
   ]
  },
  {
   "cell_type": "code",
   "execution_count": 23,
   "id": "8a71b62a",
   "metadata": {
    "scrolled": true
   },
   "outputs": [
    {
     "name": "stdout",
     "output_type": "stream",
     "text": [
      "name age city\n"
     ]
    }
   ],
   "source": [
    "person = {\"name\": \"John\", \"age\": 30, \"city\": \"New York\"}\n",
    "# Your code here\n",
    "print(*person)"
   ]
  },
  {
   "cell_type": "code",
   "execution_count": 28,
   "id": "eb0fb2e3",
   "metadata": {},
   "outputs": [],
   "source": [
    "def greet(name, age, city):\n",
    "    print(f'{name} from {city} is {age} years old.')"
   ]
  },
  {
   "cell_type": "code",
   "execution_count": 25,
   "id": "b44735b2",
   "metadata": {},
   "outputs": [
    {
     "name": "stdout",
     "output_type": "stream",
     "text": [
      "John from New York is 30 old.\n"
     ]
    }
   ],
   "source": [
    "greet(** person)"
   ]
  },
  {
   "cell_type": "code",
   "execution_count": 29,
   "id": "f26ebe3d",
   "metadata": {
    "scrolled": true
   },
   "outputs": [
    {
     "name": "stdout",
     "output_type": "stream",
     "text": [
      "John from New York is 30 years old.\n"
     ]
    }
   ],
   "source": [
    "greet(**person)"
   ]
  },
  {
   "cell_type": "code",
   "execution_count": 35,
   "id": "631fa9ed",
   "metadata": {},
   "outputs": [],
   "source": [
    "car = {\n",
    "  \"brand\": \"Ford\",\n",
    "  \"model\": \"Mustang\",\n",
    "  \"year\": 1964\n",
    "}"
   ]
  },
  {
   "cell_type": "code",
   "execution_count": 36,
   "id": "aec6d689",
   "metadata": {},
   "outputs": [],
   "source": [
    "car['color'] = 'white'"
   ]
  },
  {
   "cell_type": "code",
   "execution_count": 37,
   "id": "dcc7a567",
   "metadata": {},
   "outputs": [
    {
     "data": {
      "text/plain": [
       "dict_keys(['brand', 'model', 'year', 'color'])"
      ]
     },
     "execution_count": 37,
     "metadata": {},
     "output_type": "execute_result"
    }
   ],
   "source": [
    "car.keys()"
   ]
  },
  {
   "cell_type": "code",
   "execution_count": 38,
   "id": "7fec6215",
   "metadata": {},
   "outputs": [
    {
     "data": {
      "text/plain": [
       "{'brand': 'Ford', 'model': 'Mustang', 'year': 1964, 'color': 'white'}"
      ]
     },
     "execution_count": 38,
     "metadata": {},
     "output_type": "execute_result"
    }
   ],
   "source": [
    "car"
   ]
  },
  {
   "cell_type": "code",
   "execution_count": 39,
   "id": "62fffcdb",
   "metadata": {},
   "outputs": [
    {
     "data": {
      "text/plain": [
       "dict_values(['Ford', 'Mustang', 1964, 'white'])"
      ]
     },
     "execution_count": 39,
     "metadata": {},
     "output_type": "execute_result"
    }
   ],
   "source": [
    "car.values()"
   ]
  },
  {
   "cell_type": "code",
   "execution_count": 40,
   "id": "f54be54a",
   "metadata": {},
   "outputs": [],
   "source": [
    "car['year'] = 2020"
   ]
  },
  {
   "cell_type": "code",
   "execution_count": 41,
   "id": "46ce1637",
   "metadata": {},
   "outputs": [
    {
     "data": {
      "text/plain": [
       "dict_values(['Ford', 'Mustang', 2020, 'white'])"
      ]
     },
     "execution_count": 41,
     "metadata": {},
     "output_type": "execute_result"
    }
   ],
   "source": [
    "car.values()"
   ]
  },
  {
   "cell_type": "code",
   "execution_count": 45,
   "id": "9682d1fd",
   "metadata": {},
   "outputs": [
    {
     "data": {
      "text/plain": [
       "dict_items([('brand', 'Ford'), ('model', 'Mustang'), ('year', 2020), ('color', 'white')])"
      ]
     },
     "execution_count": 45,
     "metadata": {},
     "output_type": "execute_result"
    }
   ],
   "source": [
    "car.items()"
   ]
  },
  {
   "cell_type": "code",
   "execution_count": 46,
   "id": "50b08e47",
   "metadata": {},
   "outputs": [],
   "source": [
    "car['color'] = 'Red'"
   ]
  },
  {
   "cell_type": "code",
   "execution_count": 47,
   "id": "cddf1550",
   "metadata": {},
   "outputs": [
    {
     "data": {
      "text/plain": [
       "dict_items([('brand', 'Ford'), ('model', 'Mustang'), ('year', 2020), ('color', 'Red')])"
      ]
     },
     "execution_count": 47,
     "metadata": {},
     "output_type": "execute_result"
    }
   ],
   "source": [
    "car.items()"
   ]
  },
  {
   "cell_type": "code",
   "execution_count": 48,
   "id": "f4f4797f",
   "metadata": {
    "scrolled": true
   },
   "outputs": [
    {
     "data": {
      "text/plain": [
       "{'brand': 'Ford', 'model': 'Mustang', 'year': 2020, 'color': 'Red'}"
      ]
     },
     "execution_count": 48,
     "metadata": {},
     "output_type": "execute_result"
    }
   ],
   "source": [
    "car"
   ]
  },
  {
   "cell_type": "code",
   "execution_count": 52,
   "id": "3a3961ec",
   "metadata": {},
   "outputs": [
    {
     "name": "stdout",
     "output_type": "stream",
     "text": [
      "brand model year color\n"
     ]
    }
   ],
   "source": [
    "print(*car)"
   ]
  },
  {
   "cell_type": "code",
   "execution_count": 53,
   "id": "c0b0c71c",
   "metadata": {},
   "outputs": [
    {
     "name": "stdout",
     "output_type": "stream",
     "text": [
      "yes\n"
     ]
    }
   ],
   "source": [
    "if 'model' in car:\n",
    "    print('yes')"
   ]
  },
  {
   "cell_type": "code",
   "execution_count": 58,
   "id": "4c7b3f64",
   "metadata": {},
   "outputs": [
    {
     "name": "stdout",
     "output_type": "stream",
     "text": [
      "2020\n"
     ]
    }
   ],
   "source": [
    "if 'year' in car:\n",
    "    print(car['year'])\n",
    "else:\n",
    "    print('no')"
   ]
  },
  {
   "cell_type": "code",
   "execution_count": 60,
   "id": "be558128",
   "metadata": {},
   "outputs": [
    {
     "data": {
      "text/plain": [
       "'Mustang'"
      ]
     },
     "execution_count": 60,
     "metadata": {},
     "output_type": "execute_result"
    }
   ],
   "source": [
    "car['model']"
   ]
  },
  {
   "cell_type": "code",
   "execution_count": 62,
   "id": "5fd0dac2",
   "metadata": {},
   "outputs": [],
   "source": [
    "car['model'] = 'Jetta'"
   ]
  },
  {
   "cell_type": "code",
   "execution_count": 63,
   "id": "1b2844b5",
   "metadata": {},
   "outputs": [
    {
     "data": {
      "text/plain": [
       "'Jetta'"
      ]
     },
     "execution_count": 63,
     "metadata": {},
     "output_type": "execute_result"
    }
   ],
   "source": [
    "car['model']"
   ]
  },
  {
   "cell_type": "code",
   "execution_count": 65,
   "id": "c41a58ae",
   "metadata": {},
   "outputs": [],
   "source": [
    "car.update({'year':'2003'})"
   ]
  },
  {
   "cell_type": "code",
   "execution_count": 66,
   "id": "e5d360a4",
   "metadata": {
    "scrolled": true
   },
   "outputs": [
    {
     "data": {
      "text/plain": [
       "'2003'"
      ]
     },
     "execution_count": 66,
     "metadata": {},
     "output_type": "execute_result"
    }
   ],
   "source": [
    "car['year']"
   ]
  },
  {
   "cell_type": "code",
   "execution_count": 67,
   "id": "7283db9b",
   "metadata": {},
   "outputs": [
    {
     "data": {
      "text/plain": [
       "{'brand': 'Ford', 'model': 'Jetta', 'year': '2003', 'color': 'Red'}"
      ]
     },
     "execution_count": 67,
     "metadata": {},
     "output_type": "execute_result"
    }
   ],
   "source": [
    "car"
   ]
  },
  {
   "cell_type": "code",
   "execution_count": 77,
   "id": "3b70499e",
   "metadata": {},
   "outputs": [],
   "source": [
    "car['body_kit'] = 'yes'"
   ]
  },
  {
   "cell_type": "code",
   "execution_count": 71,
   "id": "c00f0eea",
   "metadata": {},
   "outputs": [],
   "source": [
    "car.update({'body_kit_type':'lowered'})"
   ]
  },
  {
   "cell_type": "code",
   "execution_count": 72,
   "id": "a46c9384",
   "metadata": {},
   "outputs": [
    {
     "data": {
      "text/plain": [
       "{'brand': 'Ford',\n",
       " 'model': 'Jetta',\n",
       " 'year': '2003',\n",
       " 'color': 'Red',\n",
       " 'body_kit': 'yes',\n",
       " 'body_kit_type': 'lowered'}"
      ]
     },
     "execution_count": 72,
     "metadata": {},
     "output_type": "execute_result"
    }
   ],
   "source": [
    "car"
   ]
  },
  {
   "cell_type": "code",
   "execution_count": 75,
   "id": "94bc31c8",
   "metadata": {},
   "outputs": [],
   "source": [
    "car['body_kit_type'] = 'Lowered'"
   ]
  },
  {
   "cell_type": "code",
   "execution_count": 79,
   "id": "c64c9e15",
   "metadata": {},
   "outputs": [],
   "source": [
    "car.update({'body_kit':'Yes'})"
   ]
  },
  {
   "cell_type": "code",
   "execution_count": 80,
   "id": "14ac8fcc",
   "metadata": {},
   "outputs": [
    {
     "data": {
      "text/plain": [
       "{'brand': 'Ford',\n",
       " 'model': 'Jetta',\n",
       " 'year': '2003',\n",
       " 'color': 'Red',\n",
       " 'body_kit': 'Yes',\n",
       " 'body_kit_type': 'Lowered'}"
      ]
     },
     "execution_count": 80,
     "metadata": {},
     "output_type": "execute_result"
    }
   ],
   "source": [
    "car"
   ]
  },
  {
   "cell_type": "code",
   "execution_count": 81,
   "id": "9b0ef97f",
   "metadata": {},
   "outputs": [
    {
     "data": {
      "text/plain": [
       "'Ford'"
      ]
     },
     "execution_count": 81,
     "metadata": {},
     "output_type": "execute_result"
    }
   ],
   "source": [
    "car.pop('brand')"
   ]
  },
  {
   "cell_type": "code",
   "execution_count": 82,
   "id": "50469ed0",
   "metadata": {},
   "outputs": [
    {
     "data": {
      "text/plain": [
       "{'model': 'Jetta',\n",
       " 'year': '2003',\n",
       " 'color': 'Red',\n",
       " 'body_kit': 'Yes',\n",
       " 'body_kit_type': 'Lowered'}"
      ]
     },
     "execution_count": 82,
     "metadata": {},
     "output_type": "execute_result"
    }
   ],
   "source": [
    "car"
   ]
  },
  {
   "cell_type": "code",
   "execution_count": 83,
   "id": "1e593930",
   "metadata": {},
   "outputs": [],
   "source": [
    "car.update({'brand':'VW'})"
   ]
  },
  {
   "cell_type": "code",
   "execution_count": 84,
   "id": "d7e71d71",
   "metadata": {},
   "outputs": [
    {
     "data": {
      "text/plain": [
       "{'model': 'Jetta',\n",
       " 'year': '2003',\n",
       " 'color': 'Red',\n",
       " 'body_kit': 'Yes',\n",
       " 'body_kit_type': 'Lowered',\n",
       " 'brand': 'VW'}"
      ]
     },
     "execution_count": 84,
     "metadata": {},
     "output_type": "execute_result"
    }
   ],
   "source": [
    "car"
   ]
  },
  {
   "cell_type": "code",
   "execution_count": 85,
   "id": "ba507226",
   "metadata": {},
   "outputs": [],
   "source": [
    "del car['brand']"
   ]
  },
  {
   "cell_type": "code",
   "execution_count": 86,
   "id": "871d0d38",
   "metadata": {},
   "outputs": [
    {
     "data": {
      "text/plain": [
       "{'model': 'Jetta',\n",
       " 'year': '2003',\n",
       " 'color': 'Red',\n",
       " 'body_kit': 'Yes',\n",
       " 'body_kit_type': 'Lowered'}"
      ]
     },
     "execution_count": 86,
     "metadata": {},
     "output_type": "execute_result"
    }
   ],
   "source": [
    "car"
   ]
  },
  {
   "cell_type": "code",
   "execution_count": 87,
   "id": "5f13614d",
   "metadata": {},
   "outputs": [],
   "source": [
    "car.clear()"
   ]
  },
  {
   "cell_type": "code",
   "execution_count": 89,
   "id": "e6375b14",
   "metadata": {},
   "outputs": [],
   "source": [
    "del car"
   ]
  },
  {
   "cell_type": "code",
   "execution_count": 91,
   "id": "ad229ab0",
   "metadata": {},
   "outputs": [],
   "source": [
    "car = {\n",
    "  \"brand\": \"Ford\",\n",
    "  \"model\": \"Mustang\",\n",
    "  \"year\": 1964\n",
    "}"
   ]
  },
  {
   "cell_type": "code",
   "execution_count": 92,
   "id": "116aecbe",
   "metadata": {},
   "outputs": [
    {
     "data": {
      "text/plain": [
       "{'brand': 'Ford', 'model': 'Mustang', 'year': 1964}"
      ]
     },
     "execution_count": 92,
     "metadata": {},
     "output_type": "execute_result"
    }
   ],
   "source": [
    "car"
   ]
  },
  {
   "cell_type": "code",
   "execution_count": 93,
   "id": "59c86dfa",
   "metadata": {},
   "outputs": [],
   "source": [
    "car['brand','model','year'] = 'VW', 'Jetta', 2003"
   ]
  },
  {
   "cell_type": "code",
   "execution_count": 94,
   "id": "a5baa2d3",
   "metadata": {},
   "outputs": [
    {
     "data": {
      "text/plain": [
       "{'brand': 'Ford',\n",
       " 'model': 'Mustang',\n",
       " 'year': 1964,\n",
       " ('brand', 'model', 'year'): ('VW', 'Jetta', 2003)}"
      ]
     },
     "execution_count": 94,
     "metadata": {},
     "output_type": "execute_result"
    }
   ],
   "source": [
    "car"
   ]
  },
  {
   "cell_type": "code",
   "execution_count": 100,
   "id": "d48d7bc3",
   "metadata": {},
   "outputs": [],
   "source": [
    "del car['brand', 'model', 'year']"
   ]
  },
  {
   "cell_type": "code",
   "execution_count": 101,
   "id": "430e0f2d",
   "metadata": {},
   "outputs": [
    {
     "data": {
      "text/plain": [
       "{'brand': 'Ford', 'model': 'Mustang', 'year': 1964}"
      ]
     },
     "execution_count": 101,
     "metadata": {},
     "output_type": "execute_result"
    }
   ],
   "source": [
    "car"
   ]
  },
  {
   "cell_type": "code",
   "execution_count": 103,
   "id": "53efc864",
   "metadata": {},
   "outputs": [
    {
     "name": "stdout",
     "output_type": "stream",
     "text": [
      "Ford\n",
      "Mustang\n",
      "1964\n"
     ]
    }
   ],
   "source": [
    "for i in car:\n",
    "    print(car[i])"
   ]
  },
  {
   "cell_type": "code",
   "execution_count": 104,
   "id": "fa36ec44",
   "metadata": {},
   "outputs": [
    {
     "name": "stdout",
     "output_type": "stream",
     "text": [
      "brand\n",
      "model\n",
      "year\n"
     ]
    }
   ],
   "source": [
    "for i in car:\n",
    "    print(i)"
   ]
  },
  {
   "cell_type": "code",
   "execution_count": 105,
   "id": "b1f9fd79",
   "metadata": {},
   "outputs": [
    {
     "name": "stdout",
     "output_type": "stream",
     "text": [
      "brand\n",
      "model\n",
      "year\n"
     ]
    }
   ],
   "source": [
    "for x in car.keys():\n",
    "    print(x)"
   ]
  },
  {
   "cell_type": "code",
   "execution_count": 106,
   "id": "ea0a31f2",
   "metadata": {},
   "outputs": [
    {
     "data": {
      "text/plain": [
       "dict_keys(['brand', 'model', 'year'])"
      ]
     },
     "execution_count": 106,
     "metadata": {},
     "output_type": "execute_result"
    }
   ],
   "source": [
    "car.keys()"
   ]
  },
  {
   "cell_type": "code",
   "execution_count": 108,
   "id": "03f9032a",
   "metadata": {},
   "outputs": [
    {
     "name": "stdout",
     "output_type": "stream",
     "text": [
      "brand Ford\n",
      "model Mustang\n",
      "year 1964\n"
     ]
    }
   ],
   "source": [
    "for x,y in car.items():\n",
    "    print(x,y)"
   ]
  },
  {
   "cell_type": "code",
   "execution_count": 109,
   "id": "dc92c438",
   "metadata": {},
   "outputs": [],
   "source": [
    "my_ride = car.copy()"
   ]
  },
  {
   "cell_type": "code",
   "execution_count": 110,
   "id": "07a6af63",
   "metadata": {},
   "outputs": [
    {
     "data": {
      "text/plain": [
       "{'brand': 'Ford', 'model': 'Mustang', 'year': 1964}"
      ]
     },
     "execution_count": 110,
     "metadata": {},
     "output_type": "execute_result"
    }
   ],
   "source": [
    "my_ride"
   ]
  },
  {
   "cell_type": "code",
   "execution_count": 111,
   "id": "33f257ff",
   "metadata": {},
   "outputs": [],
   "source": [
    "ride = dict(my_ride)"
   ]
  },
  {
   "cell_type": "code",
   "execution_count": 112,
   "id": "9b5ee614",
   "metadata": {},
   "outputs": [
    {
     "data": {
      "text/plain": [
       "{'brand': 'Ford', 'model': 'Mustang', 'year': 1964}"
      ]
     },
     "execution_count": 112,
     "metadata": {},
     "output_type": "execute_result"
    }
   ],
   "source": [
    "ride"
   ]
  },
  {
   "cell_type": "code",
   "execution_count": 113,
   "id": "df6b945c",
   "metadata": {},
   "outputs": [],
   "source": [
    "jaunasse_family ={ 'Wife':\n",
    "                  {\n",
    "                  'name':'Yuki',\n",
    "                  'age': 37\n",
    "                  },\n",
    "                  'child1':\n",
    "                  {\n",
    "                    'name':'Emil',\n",
    "                    'age': 7\n",
    "                  },\n",
    "                  'child2':\n",
    "                  {\n",
    "                    'name':'Suzuna',\n",
    "                    'age': 5\n",
    "                  }    \n",
    "}"
   ]
  },
  {
   "cell_type": "code",
   "execution_count": 114,
   "id": "f15b40a7",
   "metadata": {},
   "outputs": [
    {
     "data": {
      "text/plain": [
       "{'Wife': {'name': 'Yuki', 'age': 37},\n",
       " 'child1': {'name': 'Emil', 'age': 7},\n",
       " 'child2': {'name': 'Suzuna', 'age': 5}}"
      ]
     },
     "execution_count": 114,
     "metadata": {},
     "output_type": "execute_result"
    }
   ],
   "source": [
    "jaunasse_family"
   ]
  },
  {
   "cell_type": "code",
   "execution_count": 117,
   "id": "2e6c8851",
   "metadata": {},
   "outputs": [],
   "source": [
    "edwige = {\n",
    "    'car' : car,\n",
    "    'family' : jaunasse_family\n",
    "}"
   ]
  },
  {
   "cell_type": "code",
   "execution_count": 118,
   "id": "236b13c6",
   "metadata": {},
   "outputs": [
    {
     "data": {
      "text/plain": [
       "{'car': {'brand': 'Ford', 'model': 'Mustang', 'year': 1964},\n",
       " 'family': {'Wife': {'name': 'Yuki', 'age': 37},\n",
       "  'child1': {'name': 'Emil', 'age': 7},\n",
       "  'child2': {'name': 'Suzuna', 'age': 5}}}"
      ]
     },
     "execution_count": 118,
     "metadata": {},
     "output_type": "execute_result"
    }
   ],
   "source": [
    "edwige"
   ]
  },
  {
   "cell_type": "code",
   "execution_count": 119,
   "id": "24357ee4",
   "metadata": {},
   "outputs": [
    {
     "data": {
      "text/plain": [
       "dict_items([('car', {'brand': 'Ford', 'model': 'Mustang', 'year': 1964}), ('family', {'Wife': {'name': 'Yuki', 'age': 37}, 'child1': {'name': 'Emil', 'age': 7}, 'child2': {'name': 'Suzuna', 'age': 5}})])"
      ]
     },
     "execution_count": 119,
     "metadata": {},
     "output_type": "execute_result"
    }
   ],
   "source": [
    "edwige.items()"
   ]
  },
  {
   "cell_type": "code",
   "execution_count": 123,
   "id": "43204c11",
   "metadata": {},
   "outputs": [
    {
     "data": {
      "text/plain": [
       "('Mustang', 5)"
      ]
     },
     "execution_count": 123,
     "metadata": {},
     "output_type": "execute_result"
    }
   ],
   "source": [
    "edwige['car']['model'], edwige['family']['child2']['age']"
   ]
  },
  {
   "cell_type": "code",
   "execution_count": null,
   "id": "2a53efba",
   "metadata": {},
   "outputs": [],
   "source": []
  }
 ],
 "metadata": {
  "kernelspec": {
   "display_name": "Python 3 (ipykernel)",
   "language": "python",
   "name": "python3"
  },
  "language_info": {
   "codemirror_mode": {
    "name": "ipython",
    "version": 3
   },
   "file_extension": ".py",
   "mimetype": "text/x-python",
   "name": "python",
   "nbconvert_exporter": "python",
   "pygments_lexer": "ipython3",
   "version": "3.10.9"
  }
 },
 "nbformat": 4,
 "nbformat_minor": 5
}
