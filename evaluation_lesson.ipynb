{
 "cells": [
  {
   "cell_type": "code",
   "execution_count": 1,
   "id": "d616dce8",
   "metadata": {},
   "outputs": [
    {
     "data": {
      "application/javascript": [
       "IPython.notebook.set_autosave_interval(0)"
      ]
     },
     "metadata": {},
     "output_type": "display_data"
    },
    {
     "name": "stdout",
     "output_type": "stream",
     "text": [
      "Autosave disabled\n"
     ]
    }
   ],
   "source": [
    "%autosave 0"
   ]
  },
  {
   "cell_type": "code",
   "execution_count": 46,
   "id": "943786de",
   "metadata": {},
   "outputs": [
    {
     "ename": "SyntaxError",
     "evalue": "invalid syntax (evaluate.py, line 4)",
     "output_type": "error",
     "traceback": [
      "Traceback \u001b[0;36m(most recent call last)\u001b[0m:\n",
      "\u001b[0m  File \u001b[1;32m/usr/local/anaconda3/lib/python3.10/site-packages/IPython/core/interactiveshell.py:3505\u001b[0m in \u001b[1;35mrun_code\u001b[0m\n    exec(code_obj, self.user_global_ns, self.user_ns)\u001b[0m\n",
      "\u001b[0;36m  Cell \u001b[0;32mIn[46], line 13\u001b[0;36m\n\u001b[0;31m    import evaluate\u001b[0;36m\n",
      "\u001b[0;36m  File \u001b[0;32m~/codeup-data-science/codeup_exercises/regression_exercises/evaluate.py:4\u001b[0;36m\u001b[0m\n\u001b[0;31m    plot_residuals(y, yhat):\u001b[0m\n\u001b[0m                           ^\u001b[0m\n\u001b[0;31mSyntaxError\u001b[0m\u001b[0;31m:\u001b[0m invalid syntax\n"
     ]
    }
   ],
   "source": [
    "import pandas as pd\n",
    "import numpy as np\n",
    "\n",
    "import matplotlib.pyplot as plt\n",
    "import seaborn as sns\n",
    "\n",
    "from adam_wrangle import train_val_test\n",
    "from scipy import stats\n",
    "from sklearn.metrics import mean_squared_error, r2_score, explained_variance_score\n",
    "from sklearn.linear_model import LinearRegression\n",
    "from math import sqrt"
   ]
  },
  {
   "cell_type": "markdown",
   "id": "c3591c83",
   "metadata": {},
   "source": [
    "Let's read in the diamonds csv from the explore lesson."
   ]
  },
  {
   "cell_type": "code",
   "execution_count": 2,
   "id": "4709ee46",
   "metadata": {},
   "outputs": [
    {
     "data": {
      "text/html": [
       "<div>\n",
       "<style scoped>\n",
       "    .dataframe tbody tr th:only-of-type {\n",
       "        vertical-align: middle;\n",
       "    }\n",
       "\n",
       "    .dataframe tbody tr th {\n",
       "        vertical-align: top;\n",
       "    }\n",
       "\n",
       "    .dataframe thead th {\n",
       "        text-align: right;\n",
       "    }\n",
       "</style>\n",
       "<table border=\"1\" class=\"dataframe\">\n",
       "  <thead>\n",
       "    <tr style=\"text-align: right;\">\n",
       "      <th></th>\n",
       "      <th>carat</th>\n",
       "      <th>cut</th>\n",
       "      <th>color</th>\n",
       "      <th>clarity</th>\n",
       "      <th>depth</th>\n",
       "      <th>table</th>\n",
       "      <th>price</th>\n",
       "      <th>x</th>\n",
       "      <th>y</th>\n",
       "      <th>z</th>\n",
       "    </tr>\n",
       "  </thead>\n",
       "  <tbody>\n",
       "    <tr>\n",
       "      <th>1</th>\n",
       "      <td>0.23</td>\n",
       "      <td>Ideal</td>\n",
       "      <td>E</td>\n",
       "      <td>SI2</td>\n",
       "      <td>61.5</td>\n",
       "      <td>55.0</td>\n",
       "      <td>326</td>\n",
       "      <td>3.95</td>\n",
       "      <td>3.98</td>\n",
       "      <td>2.43</td>\n",
       "    </tr>\n",
       "    <tr>\n",
       "      <th>2</th>\n",
       "      <td>0.21</td>\n",
       "      <td>Premium</td>\n",
       "      <td>E</td>\n",
       "      <td>SI1</td>\n",
       "      <td>59.8</td>\n",
       "      <td>61.0</td>\n",
       "      <td>326</td>\n",
       "      <td>3.89</td>\n",
       "      <td>3.84</td>\n",
       "      <td>2.31</td>\n",
       "    </tr>\n",
       "    <tr>\n",
       "      <th>3</th>\n",
       "      <td>0.23</td>\n",
       "      <td>Good</td>\n",
       "      <td>E</td>\n",
       "      <td>VS1</td>\n",
       "      <td>56.9</td>\n",
       "      <td>65.0</td>\n",
       "      <td>327</td>\n",
       "      <td>4.05</td>\n",
       "      <td>4.07</td>\n",
       "      <td>2.31</td>\n",
       "    </tr>\n",
       "    <tr>\n",
       "      <th>4</th>\n",
       "      <td>0.29</td>\n",
       "      <td>Premium</td>\n",
       "      <td>I</td>\n",
       "      <td>VS2</td>\n",
       "      <td>62.4</td>\n",
       "      <td>58.0</td>\n",
       "      <td>334</td>\n",
       "      <td>4.20</td>\n",
       "      <td>4.23</td>\n",
       "      <td>2.63</td>\n",
       "    </tr>\n",
       "    <tr>\n",
       "      <th>5</th>\n",
       "      <td>0.31</td>\n",
       "      <td>Good</td>\n",
       "      <td>J</td>\n",
       "      <td>SI2</td>\n",
       "      <td>63.3</td>\n",
       "      <td>58.0</td>\n",
       "      <td>335</td>\n",
       "      <td>4.34</td>\n",
       "      <td>4.35</td>\n",
       "      <td>2.75</td>\n",
       "    </tr>\n",
       "  </tbody>\n",
       "</table>\n",
       "</div>"
      ],
      "text/plain": [
       "   carat      cut color clarity  depth  table  price     x     y     z\n",
       "1   0.23    Ideal     E     SI2   61.5   55.0    326  3.95  3.98  2.43\n",
       "2   0.21  Premium     E     SI1   59.8   61.0    326  3.89  3.84  2.31\n",
       "3   0.23     Good     E     VS1   56.9   65.0    327  4.05  4.07  2.31\n",
       "4   0.29  Premium     I     VS2   62.4   58.0    334  4.20  4.23  2.63\n",
       "5   0.31     Good     J     SI2   63.3   58.0    335  4.34  4.35  2.75"
      ]
     },
     "execution_count": 2,
     "metadata": {},
     "output_type": "execute_result"
    }
   ],
   "source": [
    "df = pd.read_csv('diamonds.csv', index_col=0)\n",
    "df.head()"
   ]
  },
  {
   "cell_type": "markdown",
   "id": "00ccfb07",
   "metadata": {},
   "source": [
    "We have to split our data before we can fit a model to our data and generate some predictions."
   ]
  },
  {
   "cell_type": "code",
   "execution_count": 3,
   "id": "f5626adb",
   "metadata": {},
   "outputs": [
    {
     "data": {
      "text/plain": [
       "((37758, 10), (8091, 10), (8091, 10))"
      ]
     },
     "execution_count": 3,
     "metadata": {},
     "output_type": "execute_result"
    }
   ],
   "source": [
    "train, val, test = train_val_test(df)\n",
    "train.shape, val.shape, test.shape"
   ]
  },
  {
   "cell_type": "markdown",
   "id": "2c278214",
   "metadata": {},
   "source": [
    "Let's make X and y train series. Let's use carat, since we found it to have a strong positive correlation with our target variable (price) during the explore phase."
   ]
  },
  {
   "cell_type": "code",
   "execution_count": 5,
   "id": "ad1b814d",
   "metadata": {},
   "outputs": [],
   "source": [
    "X_train = train[['carat']]\n",
    "y_train = train.price\n",
    "\n",
    "X_val = val[['carat']]\n",
    "y_val = val.price"
   ]
  },
  {
   "cell_type": "markdown",
   "id": "69e78554",
   "metadata": {},
   "source": [
    "Let's define a baseline. We will go through the manual calculations using our baseline. At the end, we will create a basic linear regression model and evaluate it using the imported functions.\n",
    "\n",
    "Since we have no way of knowing if the median or the mean performs better, we'll use the median."
   ]
  },
  {
   "cell_type": "code",
   "execution_count": 6,
   "id": "7191e748",
   "metadata": {},
   "outputs": [
    {
     "data": {
      "text/plain": [
       "3951.495312251708"
      ]
     },
     "execution_count": 6,
     "metadata": {},
     "output_type": "execute_result"
    }
   ],
   "source": [
    "y_train.mean()"
   ]
  },
  {
   "cell_type": "code",
   "execution_count": 7,
   "id": "37b9d827",
   "metadata": {},
   "outputs": [
    {
     "data": {
      "text/plain": [
       "2404.0"
      ]
     },
     "execution_count": 7,
     "metadata": {},
     "output_type": "execute_result"
    }
   ],
   "source": [
    "y_train.median()"
   ]
  },
  {
   "cell_type": "markdown",
   "id": "ba76b9fc",
   "metadata": {},
   "source": [
    "Let's assign our baseline to a new column of y_train."
   ]
  },
  {
   "cell_type": "code",
   "execution_count": 8,
   "id": "e248c740",
   "metadata": {
    "scrolled": true
   },
   "outputs": [
    {
     "data": {
      "text/plain": [
       "19498     8131\n",
       "31230      756\n",
       "22312    10351\n",
       "279       2795\n",
       "6647      4092\n",
       "Name: price, dtype: int64"
      ]
     },
     "execution_count": 8,
     "metadata": {},
     "output_type": "execute_result"
    }
   ],
   "source": [
    "y_train.head()"
   ]
  },
  {
   "cell_type": "code",
   "execution_count": 16,
   "id": "6bff03e8",
   "metadata": {},
   "outputs": [],
   "source": [
    "# baseline, can be mean or meadian\n",
    "preds = pd.DataFrame({'y_actual':y_train,\n",
    "             'y_baseline': y_train.median(),\n",
    "             'y_mean':y_train.mean()})"
   ]
  },
  {
   "cell_type": "code",
   "execution_count": 15,
   "id": "2f2d5efe",
   "metadata": {},
   "outputs": [
    {
     "data": {
      "text/html": [
       "<div>\n",
       "<style scoped>\n",
       "    .dataframe tbody tr th:only-of-type {\n",
       "        vertical-align: middle;\n",
       "    }\n",
       "\n",
       "    .dataframe tbody tr th {\n",
       "        vertical-align: top;\n",
       "    }\n",
       "\n",
       "    .dataframe thead th {\n",
       "        text-align: right;\n",
       "    }\n",
       "</style>\n",
       "<table border=\"1\" class=\"dataframe\">\n",
       "  <thead>\n",
       "    <tr style=\"text-align: right;\">\n",
       "      <th></th>\n",
       "      <th>y_actual</th>\n",
       "      <th>y_median</th>\n",
       "      <th>y_mean</th>\n",
       "    </tr>\n",
       "  </thead>\n",
       "  <tbody>\n",
       "    <tr>\n",
       "      <th>19498</th>\n",
       "      <td>8131</td>\n",
       "      <td>2404.0</td>\n",
       "      <td>3951.495312</td>\n",
       "    </tr>\n",
       "    <tr>\n",
       "      <th>31230</th>\n",
       "      <td>756</td>\n",
       "      <td>2404.0</td>\n",
       "      <td>3951.495312</td>\n",
       "    </tr>\n",
       "    <tr>\n",
       "      <th>22312</th>\n",
       "      <td>10351</td>\n",
       "      <td>2404.0</td>\n",
       "      <td>3951.495312</td>\n",
       "    </tr>\n",
       "    <tr>\n",
       "      <th>279</th>\n",
       "      <td>2795</td>\n",
       "      <td>2404.0</td>\n",
       "      <td>3951.495312</td>\n",
       "    </tr>\n",
       "    <tr>\n",
       "      <th>6647</th>\n",
       "      <td>4092</td>\n",
       "      <td>2404.0</td>\n",
       "      <td>3951.495312</td>\n",
       "    </tr>\n",
       "  </tbody>\n",
       "</table>\n",
       "</div>"
      ],
      "text/plain": [
       "       y_actual  y_median       y_mean\n",
       "19498      8131    2404.0  3951.495312\n",
       "31230       756    2404.0  3951.495312\n",
       "22312     10351    2404.0  3951.495312\n",
       "279        2795    2404.0  3951.495312\n",
       "6647       4092    2404.0  3951.495312"
      ]
     },
     "execution_count": 15,
     "metadata": {},
     "output_type": "execute_result"
    }
   ],
   "source": [
    "preds.head()"
   ]
  },
  {
   "cell_type": "markdown",
   "id": "e83c6623",
   "metadata": {},
   "source": [
    "Let's calculate the residuals, which are the predicted values minus the actual ones."
   ]
  },
  {
   "cell_type": "code",
   "execution_count": 17,
   "id": "9767c1cf",
   "metadata": {},
   "outputs": [],
   "source": [
    "preds['y_baseline_resids'] = preds['y_baseline'] - preds['y_actual'] "
   ]
  },
  {
   "cell_type": "code",
   "execution_count": 18,
   "id": "e27b19e8",
   "metadata": {
    "scrolled": true
   },
   "outputs": [
    {
     "data": {
      "text/html": [
       "<div>\n",
       "<style scoped>\n",
       "    .dataframe tbody tr th:only-of-type {\n",
       "        vertical-align: middle;\n",
       "    }\n",
       "\n",
       "    .dataframe tbody tr th {\n",
       "        vertical-align: top;\n",
       "    }\n",
       "\n",
       "    .dataframe thead th {\n",
       "        text-align: right;\n",
       "    }\n",
       "</style>\n",
       "<table border=\"1\" class=\"dataframe\">\n",
       "  <thead>\n",
       "    <tr style=\"text-align: right;\">\n",
       "      <th></th>\n",
       "      <th>y_actual</th>\n",
       "      <th>y_baseline</th>\n",
       "      <th>y_mean</th>\n",
       "      <th>y_baseline_resids</th>\n",
       "    </tr>\n",
       "  </thead>\n",
       "  <tbody>\n",
       "    <tr>\n",
       "      <th>19498</th>\n",
       "      <td>8131</td>\n",
       "      <td>2404.0</td>\n",
       "      <td>3951.495312</td>\n",
       "      <td>-5727.0</td>\n",
       "    </tr>\n",
       "    <tr>\n",
       "      <th>31230</th>\n",
       "      <td>756</td>\n",
       "      <td>2404.0</td>\n",
       "      <td>3951.495312</td>\n",
       "      <td>1648.0</td>\n",
       "    </tr>\n",
       "    <tr>\n",
       "      <th>22312</th>\n",
       "      <td>10351</td>\n",
       "      <td>2404.0</td>\n",
       "      <td>3951.495312</td>\n",
       "      <td>-7947.0</td>\n",
       "    </tr>\n",
       "    <tr>\n",
       "      <th>279</th>\n",
       "      <td>2795</td>\n",
       "      <td>2404.0</td>\n",
       "      <td>3951.495312</td>\n",
       "      <td>-391.0</td>\n",
       "    </tr>\n",
       "    <tr>\n",
       "      <th>6647</th>\n",
       "      <td>4092</td>\n",
       "      <td>2404.0</td>\n",
       "      <td>3951.495312</td>\n",
       "      <td>-1688.0</td>\n",
       "    </tr>\n",
       "  </tbody>\n",
       "</table>\n",
       "</div>"
      ],
      "text/plain": [
       "       y_actual  y_baseline       y_mean  y_baseline_resids\n",
       "19498      8131      2404.0  3951.495312            -5727.0\n",
       "31230       756      2404.0  3951.495312             1648.0\n",
       "22312     10351      2404.0  3951.495312            -7947.0\n",
       "279        2795      2404.0  3951.495312             -391.0\n",
       "6647       4092      2404.0  3951.495312            -1688.0"
      ]
     },
     "execution_count": 18,
     "metadata": {},
     "output_type": "execute_result"
    }
   ],
   "source": [
    "preds.head()"
   ]
  },
  {
   "cell_type": "code",
   "execution_count": 21,
   "id": "3d026042",
   "metadata": {},
   "outputs": [
    {
     "data": {
      "text/plain": [
       "<matplotlib.collections.LineCollection at 0x7ff338b818d0>"
      ]
     },
     "execution_count": 21,
     "metadata": {},
     "output_type": "execute_result"
    },
    {
     "data": {
      "image/png": "[encoded data removed]",
      "text/plain": [
       "<Figure size 640x480 with 1 Axes>"
      ]
     },
     "metadata": {},
     "output_type": "display_data"
    }
   ],
   "source": [
    "sns.scatterplot(data=preds,x='y_actual', y='y_baseline_resids')\n",
    "plt.hlines(0,0,20_000)"
   ]
  },
  {
   "cell_type": "markdown",
   "id": "7cd0e619",
   "metadata": {},
   "source": [
    "Now we can square the residuals, to eliminate the differences in the signs. This calculates the squared errors."
   ]
  },
  {
   "cell_type": "code",
   "execution_count": 22,
   "id": "4c89f7d6",
   "metadata": {},
   "outputs": [
    {
     "data": {
      "text/html": [
       "<div>\n",
       "<style scoped>\n",
       "    .dataframe tbody tr th:only-of-type {\n",
       "        vertical-align: middle;\n",
       "    }\n",
       "\n",
       "    .dataframe tbody tr th {\n",
       "        vertical-align: top;\n",
       "    }\n",
       "\n",
       "    .dataframe thead th {\n",
       "        text-align: right;\n",
       "    }\n",
       "</style>\n",
       "<table border=\"1\" class=\"dataframe\">\n",
       "  <thead>\n",
       "    <tr style=\"text-align: right;\">\n",
       "      <th></th>\n",
       "      <th>y_actual</th>\n",
       "      <th>y_baseline</th>\n",
       "      <th>y_mean</th>\n",
       "      <th>y_baseline_resids</th>\n",
       "      <th>y_baseline_resids_sq</th>\n",
       "    </tr>\n",
       "  </thead>\n",
       "  <tbody>\n",
       "    <tr>\n",
       "      <th>19498</th>\n",
       "      <td>8131</td>\n",
       "      <td>2404.0</td>\n",
       "      <td>3951.495312</td>\n",
       "      <td>-5727.0</td>\n",
       "      <td>32798529.0</td>\n",
       "    </tr>\n",
       "    <tr>\n",
       "      <th>31230</th>\n",
       "      <td>756</td>\n",
       "      <td>2404.0</td>\n",
       "      <td>3951.495312</td>\n",
       "      <td>1648.0</td>\n",
       "      <td>2715904.0</td>\n",
       "    </tr>\n",
       "    <tr>\n",
       "      <th>22312</th>\n",
       "      <td>10351</td>\n",
       "      <td>2404.0</td>\n",
       "      <td>3951.495312</td>\n",
       "      <td>-7947.0</td>\n",
       "      <td>63154809.0</td>\n",
       "    </tr>\n",
       "    <tr>\n",
       "      <th>279</th>\n",
       "      <td>2795</td>\n",
       "      <td>2404.0</td>\n",
       "      <td>3951.495312</td>\n",
       "      <td>-391.0</td>\n",
       "      <td>152881.0</td>\n",
       "    </tr>\n",
       "    <tr>\n",
       "      <th>6647</th>\n",
       "      <td>4092</td>\n",
       "      <td>2404.0</td>\n",
       "      <td>3951.495312</td>\n",
       "      <td>-1688.0</td>\n",
       "      <td>2849344.0</td>\n",
       "    </tr>\n",
       "  </tbody>\n",
       "</table>\n",
       "</div>"
      ],
      "text/plain": [
       "       y_actual  y_baseline       y_mean  y_baseline_resids  \\\n",
       "19498      8131      2404.0  3951.495312            -5727.0   \n",
       "31230       756      2404.0  3951.495312             1648.0   \n",
       "22312     10351      2404.0  3951.495312            -7947.0   \n",
       "279        2795      2404.0  3951.495312             -391.0   \n",
       "6647       4092      2404.0  3951.495312            -1688.0   \n",
       "\n",
       "       y_baseline_resids_sq  \n",
       "19498            32798529.0  \n",
       "31230             2715904.0  \n",
       "22312            63154809.0  \n",
       "279                152881.0  \n",
       "6647              2849344.0  "
      ]
     },
     "execution_count": 22,
     "metadata": {},
     "output_type": "execute_result"
    }
   ],
   "source": [
    "preds['y_baseline_resids_sq'] = preds['y_baseline_resids'] ** 2\n",
    "preds.head()"
   ]
  },
  {
   "cell_type": "markdown",
   "id": "f47ae328",
   "metadata": {},
   "source": [
    "We can add all the squared errors together, to calculate the sum of squared errors (SSE). This is the first acronym you encountered in the curriculum."
   ]
  },
  {
   "cell_type": "code",
   "execution_count": 24,
   "id": "b98832ed",
   "metadata": {},
   "outputs": [
    {
     "data": {
      "text/plain": [
       "696475923920.0"
      ]
     },
     "execution_count": 24,
     "metadata": {},
     "output_type": "execute_result"
    }
   ],
   "source": [
    "sse_baseline = preds.y_baseline_resids_sq.sum()\n",
    "sse_baseline"
   ]
  },
  {
   "cell_type": "markdown",
   "id": "002b3e04",
   "metadata": {},
   "source": [
    "The next step is to calculate the mean squared error (MSE). As the name implies, we calculate this value by getting the average of the squared error. We can divide the sum of squared errors (SSE) by the length of the dataframe to calculate this value."
   ]
  },
  {
   "cell_type": "code",
   "execution_count": 25,
   "id": "eb052651",
   "metadata": {},
   "outputs": [
    {
     "data": {
      "text/plain": [
       "18445784.308490917"
      ]
     },
     "execution_count": 25,
     "metadata": {},
     "output_type": "execute_result"
    }
   ],
   "source": [
    "mse_baseline = sse_baseline / len(preds)\n",
    "mse_baseline"
   ]
  },
  {
   "cell_type": "markdown",
   "id": "a3e2fab1",
   "metadata": {},
   "source": [
    "Finally, as the name implies, we can calculate the root mean squared error (RMSE) by taking the square root of the mean squared error (MSE). This will return a value that represents the average error in our baseline's predictions in the original units."
   ]
  },
  {
   "cell_type": "code",
   "execution_count": 28,
   "id": "67a51583",
   "metadata": {},
   "outputs": [
    {
     "data": {
      "text/plain": [
       "4294.855563169839"
      ]
     },
     "execution_count": 28,
     "metadata": {},
     "output_type": "execute_result"
    }
   ],
   "source": [
    "rmse_baseline = sqrt(mse_baseline)\n",
    "rmse_baseline"
   ]
  },
  {
   "cell_type": "markdown",
   "id": "5b2e3509",
   "metadata": {},
   "source": [
    "Now that we've done it the long way with the baseline, let's create a basic linear regression model and evaluate it with the help of the sklearn library."
   ]
  },
  {
   "cell_type": "code",
   "execution_count": 29,
   "id": "e27e4a97",
   "metadata": {},
   "outputs": [],
   "source": [
    "lm = LinearRegression()\n",
    "\n",
    "lm.fit(X_train, y_train)\n",
    "\n",
    "preds['y_hat'] = lm.predict(X_train)"
   ]
  },
  {
   "cell_type": "code",
   "execution_count": 31,
   "id": "57cfb1a9",
   "metadata": {
    "scrolled": true
   },
   "outputs": [],
   "source": [
    "rmse_model = sqrt(mean_squared_error(preds.y_actual,preds.y_hat))"
   ]
  },
  {
   "cell_type": "code",
   "execution_count": 32,
   "id": "fc6cd484",
   "metadata": {},
   "outputs": [
    {
     "data": {
      "text/plain": [
       "1553.8093867380917"
      ]
     },
     "execution_count": 32,
     "metadata": {},
     "output_type": "execute_result"
    }
   ],
   "source": [
    "rmse_model"
   ]
  },
  {
   "cell_type": "markdown",
   "id": "1ba62399",
   "metadata": {},
   "source": [
    "Great! We were able to calculate the root mean squared error (RMSE) for our baseline and regression model. Which one performed better?"
   ]
  },
  {
   "cell_type": "code",
   "execution_count": 33,
   "id": "32fd50ae",
   "metadata": {},
   "outputs": [
    {
     "name": "stdout",
     "output_type": "stream",
     "text": [
      "RMSE of our baseline: 4295\n",
      "RMSE of our finely tuned model: 1554\n"
     ]
    }
   ],
   "source": [
    "print(f'RMSE of our baseline: {round(rmse_baseline)}')\n",
    "print(f'RMSE of our finely tuned model: {round(rmse_model)}')"
   ]
  },
  {
   "cell_type": "code",
   "execution_count": 36,
   "id": "23b4ba12",
   "metadata": {},
   "outputs": [
    {
     "data": {
      "text/plain": [
       "<Axes: xlabel='y_actual', ylabel='y_hat_resids'>"
      ]
     },
     "execution_count": 36,
     "metadata": {},
     "output_type": "execute_result"
    },
    {
     "data": {
      "image/png": "[encoded data removed]",
      "text/plain": [
       "<Figure size 640x480 with 1 Axes>"
      ]
     },
     "metadata": {},
     "output_type": "display_data"
    }
   ],
   "source": [
    "preds['y_hat_resids'] = preds['y_hat'] - preds['y_actual']\n",
    "\n",
    "sns.scatterplot(data = preds, x= 'y_actual', y= 'y_hat_resids')"
   ]
  },
  {
   "cell_type": "markdown",
   "id": "4009b2ff",
   "metadata": {},
   "source": [
    "Now let's calculate the model significance. This can also be expressed as the R^2 value. The R^2 value equals the explained sum of squares divided by the total sum of squares. The equation with acronyms looks like this: R^2 = ESS / TSS.\n",
    "\n",
    "The first step is to calculated the explained sum of squares. This is calculated by taking each prediction, subtracting the mean of actual values, squaring it, and adding up all the results. It's very similar to how we calculated the sum of squared errors (SSE)."
   ]
  },
  {
   "cell_type": "code",
   "execution_count": 38,
   "id": "6fd93a9b",
   "metadata": {},
   "outputs": [
    {
     "data": {
      "text/html": [
       "<div>\n",
       "<style scoped>\n",
       "    .dataframe tbody tr th:only-of-type {\n",
       "        vertical-align: middle;\n",
       "    }\n",
       "\n",
       "    .dataframe tbody tr th {\n",
       "        vertical-align: top;\n",
       "    }\n",
       "\n",
       "    .dataframe thead th {\n",
       "        text-align: right;\n",
       "    }\n",
       "</style>\n",
       "<table border=\"1\" class=\"dataframe\">\n",
       "  <thead>\n",
       "    <tr style=\"text-align: right;\">\n",
       "      <th></th>\n",
       "      <th>y_actual</th>\n",
       "      <th>y_baseline</th>\n",
       "      <th>y_mean</th>\n",
       "      <th>y_baseline_resids</th>\n",
       "      <th>y_baseline_resids_sq</th>\n",
       "      <th>y_hat</th>\n",
       "      <th>y_hat_resids</th>\n",
       "    </tr>\n",
       "  </thead>\n",
       "  <tbody>\n",
       "    <tr>\n",
       "      <th>19498</th>\n",
       "      <td>8131</td>\n",
       "      <td>2404.0</td>\n",
       "      <td>3951.495312</td>\n",
       "      <td>-5727.0</td>\n",
       "      <td>32798529.0</td>\n",
       "      <td>7137.116468</td>\n",
       "      <td>-993.883532</td>\n",
       "    </tr>\n",
       "    <tr>\n",
       "      <th>31230</th>\n",
       "      <td>756</td>\n",
       "      <td>2404.0</td>\n",
       "      <td>3951.495312</td>\n",
       "      <td>1648.0</td>\n",
       "      <td>2715904.0</td>\n",
       "      <td>148.330012</td>\n",
       "      <td>-607.669988</td>\n",
       "    </tr>\n",
       "  </tbody>\n",
       "</table>\n",
       "</div>"
      ],
      "text/plain": [
       "       y_actual  y_baseline       y_mean  y_baseline_resids  \\\n",
       "19498      8131      2404.0  3951.495312            -5727.0   \n",
       "31230       756      2404.0  3951.495312             1648.0   \n",
       "\n",
       "       y_baseline_resids_sq        y_hat  y_hat_resids  \n",
       "19498            32798529.0  7137.116468   -993.883532  \n",
       "31230             2715904.0   148.330012   -607.669988  "
      ]
     },
     "execution_count": 38,
     "metadata": {},
     "output_type": "execute_result"
    }
   ],
   "source": [
    "preds.head(2)"
   ]
  },
  {
   "cell_type": "code",
   "execution_count": 39,
   "id": "cbeb7ae2",
   "metadata": {
    "scrolled": true
   },
   "outputs": [
    {
     "data": {
      "text/html": [
       "<div>\n",
       "<style scoped>\n",
       "    .dataframe tbody tr th:only-of-type {\n",
       "        vertical-align: middle;\n",
       "    }\n",
       "\n",
       "    .dataframe tbody tr th {\n",
       "        vertical-align: top;\n",
       "    }\n",
       "\n",
       "    .dataframe thead th {\n",
       "        text-align: right;\n",
       "    }\n",
       "</style>\n",
       "<table border=\"1\" class=\"dataframe\">\n",
       "  <thead>\n",
       "    <tr style=\"text-align: right;\">\n",
       "      <th></th>\n",
       "      <th>y_actual</th>\n",
       "      <th>y_baseline</th>\n",
       "      <th>y_mean</th>\n",
       "      <th>y_baseline_resids</th>\n",
       "      <th>y_baseline_resids_sq</th>\n",
       "      <th>y_hat</th>\n",
       "      <th>y_hat_resids</th>\n",
       "      <th>y_baseline_minus_mean</th>\n",
       "    </tr>\n",
       "  </thead>\n",
       "  <tbody>\n",
       "    <tr>\n",
       "      <th>19498</th>\n",
       "      <td>8131</td>\n",
       "      <td>2404.0</td>\n",
       "      <td>3951.495312</td>\n",
       "      <td>-5727.0</td>\n",
       "      <td>32798529.0</td>\n",
       "      <td>7137.116468</td>\n",
       "      <td>-993.883532</td>\n",
       "      <td>-1547.495312</td>\n",
       "    </tr>\n",
       "    <tr>\n",
       "      <th>31230</th>\n",
       "      <td>756</td>\n",
       "      <td>2404.0</td>\n",
       "      <td>3951.495312</td>\n",
       "      <td>1648.0</td>\n",
       "      <td>2715904.0</td>\n",
       "      <td>148.330012</td>\n",
       "      <td>-607.669988</td>\n",
       "      <td>-1547.495312</td>\n",
       "    </tr>\n",
       "  </tbody>\n",
       "</table>\n",
       "</div>"
      ],
      "text/plain": [
       "       y_actual  y_baseline       y_mean  y_baseline_resids  \\\n",
       "19498      8131      2404.0  3951.495312            -5727.0   \n",
       "31230       756      2404.0  3951.495312             1648.0   \n",
       "\n",
       "       y_baseline_resids_sq        y_hat  y_hat_resids  y_baseline_minus_mean  \n",
       "19498            32798529.0  7137.116468   -993.883532           -1547.495312  \n",
       "31230             2715904.0   148.330012   -607.669988           -1547.495312  "
      ]
     },
     "execution_count": 39,
     "metadata": {},
     "output_type": "execute_result"
    }
   ],
   "source": [
    "preds['y_baseline_minus_mean'] = preds['y_baseline'] - preds['y_actual'].mean()\n",
    "preds.head(2)"
   ]
  },
  {
   "cell_type": "code",
   "execution_count": 40,
   "id": "e41f51e9",
   "metadata": {},
   "outputs": [
    {
     "data": {
      "text/plain": [
       "90420658673.29518"
      ]
     },
     "execution_count": 40,
     "metadata": {},
     "output_type": "execute_result"
    }
   ],
   "source": [
    "ess_baseline = sum(preds.y_baseline_minus_mean ** 2)\n",
    "ess_baseline"
   ]
  },
  {
   "cell_type": "markdown",
   "id": "2aa8e4e9",
   "metadata": {},
   "source": [
    "Now that we have our explained sum of squares, we have the nominator for our equation. To calculate the denominator, the total sum of squares (TSS), we have to add the sum of squared error (SSE) to the explained sum of squares (ESS)."
   ]
  },
  {
   "cell_type": "code",
   "execution_count": 42,
   "id": "216de4fc",
   "metadata": {},
   "outputs": [
    {
     "data": {
      "text/plain": [
       "786896582593.2952"
      ]
     },
     "execution_count": 42,
     "metadata": {},
     "output_type": "execute_result"
    }
   ],
   "source": [
    "tss_baseline = sse_baseline + ess_baseline\n",
    "tss_baseline"
   ]
  },
  {
   "cell_type": "markdown",
   "id": "60830d13",
   "metadata": {},
   "source": [
    "We have both elements ready! We divide the ESS by the TSS to find the model significance for our baseline."
   ]
  },
  {
   "cell_type": "code",
   "execution_count": 43,
   "id": "18e3bc57",
   "metadata": {},
   "outputs": [
    {
     "data": {
      "text/plain": [
       "0.11490793158016394"
      ]
     },
     "execution_count": 43,
     "metadata": {},
     "output_type": "execute_result"
    }
   ],
   "source": [
    "r_baseline = ess_baseline / tss_baseline\n",
    "r_baseline"
   ]
  },
  {
   "cell_type": "markdown",
   "id": "88b6032a",
   "metadata": {},
   "source": [
    "After doing it the long way, let's calculate model significance for our linear regression model using the sklearn library."
   ]
  },
  {
   "cell_type": "code",
   "execution_count": 44,
   "id": "805a1af2",
   "metadata": {},
   "outputs": [
    {
     "data": {
      "text/html": [
       "<div>\n",
       "<style scoped>\n",
       "    .dataframe tbody tr th:only-of-type {\n",
       "        vertical-align: middle;\n",
       "    }\n",
       "\n",
       "    .dataframe tbody tr th {\n",
       "        vertical-align: top;\n",
       "    }\n",
       "\n",
       "    .dataframe thead th {\n",
       "        text-align: right;\n",
       "    }\n",
       "</style>\n",
       "<table border=\"1\" class=\"dataframe\">\n",
       "  <thead>\n",
       "    <tr style=\"text-align: right;\">\n",
       "      <th></th>\n",
       "      <th>y_actual</th>\n",
       "      <th>y_baseline</th>\n",
       "      <th>y_mean</th>\n",
       "      <th>y_baseline_resids</th>\n",
       "      <th>y_baseline_resids_sq</th>\n",
       "      <th>y_hat</th>\n",
       "      <th>y_hat_resids</th>\n",
       "      <th>y_baseline_minus_mean</th>\n",
       "    </tr>\n",
       "  </thead>\n",
       "  <tbody>\n",
       "    <tr>\n",
       "      <th>19498</th>\n",
       "      <td>8131</td>\n",
       "      <td>2404.0</td>\n",
       "      <td>3951.495312</td>\n",
       "      <td>-5727.0</td>\n",
       "      <td>32798529.0</td>\n",
       "      <td>7137.116468</td>\n",
       "      <td>-993.883532</td>\n",
       "      <td>-1547.495312</td>\n",
       "    </tr>\n",
       "    <tr>\n",
       "      <th>31230</th>\n",
       "      <td>756</td>\n",
       "      <td>2404.0</td>\n",
       "      <td>3951.495312</td>\n",
       "      <td>1648.0</td>\n",
       "      <td>2715904.0</td>\n",
       "      <td>148.330012</td>\n",
       "      <td>-607.669988</td>\n",
       "      <td>-1547.495312</td>\n",
       "    </tr>\n",
       "    <tr>\n",
       "      <th>22312</th>\n",
       "      <td>10351</td>\n",
       "      <td>2404.0</td>\n",
       "      <td>3951.495312</td>\n",
       "      <td>-7947.0</td>\n",
       "      <td>63154809.0</td>\n",
       "      <td>7137.116468</td>\n",
       "      <td>-3213.883532</td>\n",
       "      <td>-1547.495312</td>\n",
       "    </tr>\n",
       "    <tr>\n",
       "      <th>279</th>\n",
       "      <td>2795</td>\n",
       "      <td>2404.0</td>\n",
       "      <td>3951.495312</td>\n",
       "      <td>-391.0</td>\n",
       "      <td>152881.0</td>\n",
       "      <td>4030.989154</td>\n",
       "      <td>1235.989154</td>\n",
       "      <td>-1547.495312</td>\n",
       "    </tr>\n",
       "    <tr>\n",
       "      <th>6647</th>\n",
       "      <td>4092</td>\n",
       "      <td>2404.0</td>\n",
       "      <td>3951.495312</td>\n",
       "      <td>-1688.0</td>\n",
       "      <td>2849344.0</td>\n",
       "      <td>3875.682788</td>\n",
       "      <td>-216.317212</td>\n",
       "      <td>-1547.495312</td>\n",
       "    </tr>\n",
       "  </tbody>\n",
       "</table>\n",
       "</div>"
      ],
      "text/plain": [
       "       y_actual  y_baseline       y_mean  y_baseline_resids  \\\n",
       "19498      8131      2404.0  3951.495312            -5727.0   \n",
       "31230       756      2404.0  3951.495312             1648.0   \n",
       "22312     10351      2404.0  3951.495312            -7947.0   \n",
       "279        2795      2404.0  3951.495312             -391.0   \n",
       "6647       4092      2404.0  3951.495312            -1688.0   \n",
       "\n",
       "       y_baseline_resids_sq        y_hat  y_hat_resids  y_baseline_minus_mean  \n",
       "19498            32798529.0  7137.116468   -993.883532           -1547.495312  \n",
       "31230             2715904.0   148.330012   -607.669988           -1547.495312  \n",
       "22312            63154809.0  7137.116468  -3213.883532           -1547.495312  \n",
       "279                152881.0  4030.989154   1235.989154           -1547.495312  \n",
       "6647              2849344.0  3875.682788   -216.317212           -1547.495312  "
      ]
     },
     "execution_count": 44,
     "metadata": {},
     "output_type": "execute_result"
    }
   ],
   "source": [
    "preds.head()"
   ]
  },
  {
   "cell_type": "code",
   "execution_count": 45,
   "id": "9abef4bf",
   "metadata": {},
   "outputs": [
    {
     "data": {
      "text/plain": [
       "0.8495846235389342"
      ]
     },
     "execution_count": 45,
     "metadata": {},
     "output_type": "execute_result"
    }
   ],
   "source": [
    "r2_score(preds.y_actual, preds.y_hat)"
   ]
  }
 ],
 "metadata": {
  "kernelspec": {
   "display_name": "Python 3 (ipykernel)",
   "language": "python",
   "name": "python3"
  },
  "language_info": {
   "codemirror_mode": {
    "name": "ipython",
    "version": 3
   },
   "file_extension": ".py",
   "mimetype": "text/x-python",
   "name": "python",
   "nbconvert_exporter": "python",
   "pygments_lexer": "ipython3",
   "version": "3.10.9"
  }
 },
 "nbformat": 4,
 "nbformat_minor": 5
}
