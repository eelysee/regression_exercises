{
 "cells": [
  {
   "cell_type": "code",
   "execution_count": 1,
   "id": "a3030b1a",
   "metadata": {},
   "outputs": [
    {
     "data": {
      "application/javascript": [
       "IPython.notebook.set_autosave_interval(0)"
      ]
     },
     "metadata": {},
     "output_type": "display_data"
    },
    {
     "name": "stdout",
     "output_type": "stream",
     "text": [
      "Autosave disabled\n"
     ]
    }
   ],
   "source": [
    "%autosave 0"
   ]
  },
  {
   "cell_type": "markdown",
   "id": "64a42080",
   "metadata": {},
   "source": [
    "Imports"
   ]
  },
  {
   "cell_type": "code",
   "execution_count": 2,
   "id": "10013ded",
   "metadata": {},
   "outputs": [],
   "source": [
    "import numpy as np\n",
    "import pandas as pd\n",
    "\n",
    "import matplotlib.pyplot as plt\n",
    "import seaborn as sns\n",
    "\n",
    "from env import get_connection"
   ]
  },
  {
   "cell_type": "markdown",
   "id": "5a754f86",
   "metadata": {},
   "source": [
    "Read in the data from codeup's SQL server."
   ]
  },
  {
   "cell_type": "code",
   "execution_count": null,
   "id": "a94df139",
   "metadata": {},
   "outputs": [],
   "source": [
    "query = '''\n",
    "\n",
    "SELECT *\n",
    "FROM student_grades\n",
    "'''"
   ]
  },
  {
   "cell_type": "code",
   "execution_count": null,
   "id": "aaf0a9e0",
   "metadata": {},
   "outputs": [],
   "source": [
    "url = get_connection('school_sample')"
   ]
  },
  {
   "cell_type": "code",
   "execution_count": null,
   "id": "bf695d97",
   "metadata": {},
   "outputs": [],
   "source": [
    "df = pd.read_s"
   ]
  },
  {
   "cell_type": "markdown",
   "id": "9ef47cc6",
   "metadata": {},
   "source": [
    "Summarize our data with some pandas methods."
   ]
  },
  {
   "cell_type": "code",
   "execution_count": null,
   "id": "86ad3547",
   "metadata": {},
   "outputs": [],
   "source": []
  },
  {
   "cell_type": "markdown",
   "id": "f1e6bdd0",
   "metadata": {},
   "source": [
    "Is there anything we need to clean up?"
   ]
  },
  {
   "cell_type": "code",
   "execution_count": null,
   "id": "bfd326ec",
   "metadata": {},
   "outputs": [],
   "source": []
  },
  {
   "cell_type": "markdown",
   "id": "c4208b8b",
   "metadata": {},
   "source": [
    "Let's look at the distribution of each feature of our dataset!"
   ]
  },
  {
   "cell_type": "code",
   "execution_count": null,
   "id": "861bf003",
   "metadata": {},
   "outputs": [],
   "source": []
  },
  {
   "cell_type": "markdown",
   "id": "9bb92896",
   "metadata": {},
   "source": [
    "We could build some sort of pipeline out of this..."
   ]
  },
  {
   "cell_type": "code",
   "execution_count": null,
   "id": "645b65fd",
   "metadata": {},
   "outputs": [],
   "source": []
  }
 ],
 "metadata": {
  "kernelspec": {
   "display_name": "Python 3 (ipykernel)",
   "language": "python",
   "name": "python3"
  },
  "language_info": {
   "codemirror_mode": {
    "name": "ipython",
    "version": 3
   },
   "file_extension": ".py",
   "mimetype": "text/x-python",
   "name": "python",
   "nbconvert_exporter": "python",
   "pygments_lexer": "ipython3",
   "version": "3.10.9"
  }
 },
 "nbformat": 4,
 "nbformat_minor": 5
}
