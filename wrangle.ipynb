{
 "cells": [
  {
   "cell_type": "code",
   "execution_count": 1,
   "id": "7242c05d",
   "metadata": {},
   "outputs": [],
   "source": [
    "import numpy as np\n",
    "import pandas as pd\n",
    "\n",
    "import matplotlib.pyplot as plt\n",
    "import seaborn as sns\n",
    "\n",
    "import os\n",
    "\n",
    "from env import get_connection\n"
   ]
  },
  {
   "cell_type": "code",
   "execution_count": 2,
   "id": "c06b4017",
   "metadata": {},
   "outputs": [],
   "source": [
    "query = '''\n",
    "\n",
    "SELECT bedroomcnt, bathroomcnt, calculatedfinishedsquarefeet, taxvaluedollarcnt, yearbuilt, taxamount, fips\n",
    "FROM properties_2017\n",
    "WHERE propertylandusetypeid = 261\n",
    ";\n",
    "'''"
   ]
  },
  {
   "cell_type": "code",
   "execution_count": 3,
   "id": "0276226e",
   "metadata": {},
   "outputs": [],
   "source": [
    "url = get_connection('zillow')"
   ]
  },
  {
   "cell_type": "code",
   "execution_count": 4,
   "id": "d1c9fb30",
   "metadata": {},
   "outputs": [],
   "source": [
    "zillow = pd.read_sql(query,url)"
   ]
  },
  {
   "cell_type": "code",
   "execution_count": null,
   "id": "98248e4a",
   "metadata": {},
   "outputs": [],
   "source": [
    "# rename column names\n",
    "zillow = zillow.renmae(columns = {'bedroomcnt':'bed', 'bathroomcnt':'bath', \n",
    "                                  'calculatedfinishedsquarefeet': 'sqft', 'taxvaluedollarcnt': 'value', \n",
    "                                  'yearbuilt': 'year', 'taxamount':'tax'})"
   ]
  },
  {
   "cell_type": "code",
   "execution_count": null,
   "id": "1a297d81",
   "metadata": {},
   "outputs": [],
   "source": [
    "# Change fips code to individual county code"
   ]
  },
  {
   "cell_type": "code",
   "execution_count": 5,
   "id": "3078e709",
   "metadata": {},
   "outputs": [
    {
     "data": {
      "text/plain": [
       "(2152863, 7)"
      ]
     },
     "execution_count": 5,
     "metadata": {},
     "output_type": "execute_result"
    }
   ],
   "source": [
    "zillow.shape"
   ]
  },
  {
   "cell_type": "code",
   "execution_count": 6,
   "id": "0e371d5b",
   "metadata": {},
   "outputs": [
    {
     "data": {
      "text/plain": [
       "bedroomcnt                        11\n",
       "bathroomcnt                       11\n",
       "calculatedfinishedsquarefeet    8484\n",
       "taxvaluedollarcnt                493\n",
       "yearbuilt                       9337\n",
       "taxamount                       4442\n",
       "fips                               0\n",
       "dtype: int64"
      ]
     },
     "execution_count": 6,
     "metadata": {},
     "output_type": "execute_result"
    }
   ],
   "source": [
    "zillow.isna().sum()"
   ]
  },
  {
   "cell_type": "code",
   "execution_count": 7,
   "id": "af44752e",
   "metadata": {},
   "outputs": [],
   "source": [
    "# going to check the values of all the nulls and see if any values make sense"
   ]
  },
  {
   "cell_type": "code",
   "execution_count": 8,
   "id": "66e8f985",
   "metadata": {},
   "outputs": [
    {
     "data": {
      "text/html": [
       "<div>\n",
       "<style scoped>\n",
       "    .dataframe tbody tr th:only-of-type {\n",
       "        vertical-align: middle;\n",
       "    }\n",
       "\n",
       "    .dataframe tbody tr th {\n",
       "        vertical-align: top;\n",
       "    }\n",
       "\n",
       "    .dataframe thead th {\n",
       "        text-align: right;\n",
       "    }\n",
       "</style>\n",
       "<table border=\"1\" class=\"dataframe\">\n",
       "  <thead>\n",
       "    <tr style=\"text-align: right;\">\n",
       "      <th></th>\n",
       "      <th>bedroomcnt</th>\n",
       "      <th>bathroomcnt</th>\n",
       "      <th>calculatedfinishedsquarefeet</th>\n",
       "      <th>taxvaluedollarcnt</th>\n",
       "      <th>yearbuilt</th>\n",
       "      <th>taxamount</th>\n",
       "      <th>fips</th>\n",
       "    </tr>\n",
       "  </thead>\n",
       "  <tbody>\n",
       "    <tr>\n",
       "      <th>107763</th>\n",
       "      <td>NaN</td>\n",
       "      <td>NaN</td>\n",
       "      <td>NaN</td>\n",
       "      <td>67366.0</td>\n",
       "      <td>1926.0</td>\n",
       "      <td>780.54</td>\n",
       "      <td>6059.0</td>\n",
       "    </tr>\n",
       "    <tr>\n",
       "      <th>118612</th>\n",
       "      <td>NaN</td>\n",
       "      <td>NaN</td>\n",
       "      <td>NaN</td>\n",
       "      <td>43992.0</td>\n",
       "      <td>1946.0</td>\n",
       "      <td>541.64</td>\n",
       "      <td>6059.0</td>\n",
       "    </tr>\n",
       "    <tr>\n",
       "      <th>193993</th>\n",
       "      <td>NaN</td>\n",
       "      <td>NaN</td>\n",
       "      <td>1348.0</td>\n",
       "      <td>840698.0</td>\n",
       "      <td>1952.0</td>\n",
       "      <td>NaN</td>\n",
       "      <td>6059.0</td>\n",
       "    </tr>\n",
       "    <tr>\n",
       "      <th>1141339</th>\n",
       "      <td>NaN</td>\n",
       "      <td>NaN</td>\n",
       "      <td>200.0</td>\n",
       "      <td>188972.0</td>\n",
       "      <td>NaN</td>\n",
       "      <td>NaN</td>\n",
       "      <td>6037.0</td>\n",
       "    </tr>\n",
       "    <tr>\n",
       "      <th>1324608</th>\n",
       "      <td>NaN</td>\n",
       "      <td>NaN</td>\n",
       "      <td>990.0</td>\n",
       "      <td>435000.0</td>\n",
       "      <td>1906.0</td>\n",
       "      <td>NaN</td>\n",
       "      <td>6037.0</td>\n",
       "    </tr>\n",
       "    <tr>\n",
       "      <th>1442975</th>\n",
       "      <td>NaN</td>\n",
       "      <td>NaN</td>\n",
       "      <td>NaN</td>\n",
       "      <td>273196.0</td>\n",
       "      <td>NaN</td>\n",
       "      <td>NaN</td>\n",
       "      <td>6037.0</td>\n",
       "    </tr>\n",
       "    <tr>\n",
       "      <th>1647346</th>\n",
       "      <td>NaN</td>\n",
       "      <td>NaN</td>\n",
       "      <td>400.0</td>\n",
       "      <td>28347.0</td>\n",
       "      <td>1954.0</td>\n",
       "      <td>NaN</td>\n",
       "      <td>6037.0</td>\n",
       "    </tr>\n",
       "    <tr>\n",
       "      <th>1701026</th>\n",
       "      <td>NaN</td>\n",
       "      <td>NaN</td>\n",
       "      <td>NaN</td>\n",
       "      <td>407930.0</td>\n",
       "      <td>1926.0</td>\n",
       "      <td>NaN</td>\n",
       "      <td>6037.0</td>\n",
       "    </tr>\n",
       "    <tr>\n",
       "      <th>1722707</th>\n",
       "      <td>NaN</td>\n",
       "      <td>NaN</td>\n",
       "      <td>NaN</td>\n",
       "      <td>477161.0</td>\n",
       "      <td>NaN</td>\n",
       "      <td>NaN</td>\n",
       "      <td>6037.0</td>\n",
       "    </tr>\n",
       "    <tr>\n",
       "      <th>1776422</th>\n",
       "      <td>NaN</td>\n",
       "      <td>NaN</td>\n",
       "      <td>NaN</td>\n",
       "      <td>38855.0</td>\n",
       "      <td>NaN</td>\n",
       "      <td>NaN</td>\n",
       "      <td>6037.0</td>\n",
       "    </tr>\n",
       "    <tr>\n",
       "      <th>1797985</th>\n",
       "      <td>NaN</td>\n",
       "      <td>NaN</td>\n",
       "      <td>NaN</td>\n",
       "      <td>1017957.0</td>\n",
       "      <td>1990.0</td>\n",
       "      <td>NaN</td>\n",
       "      <td>6037.0</td>\n",
       "    </tr>\n",
       "  </tbody>\n",
       "</table>\n",
       "</div>"
      ],
      "text/plain": [
       "         bedroomcnt  bathroomcnt  calculatedfinishedsquarefeet  \\\n",
       "107763          NaN          NaN                           NaN   \n",
       "118612          NaN          NaN                           NaN   \n",
       "193993          NaN          NaN                        1348.0   \n",
       "1141339         NaN          NaN                         200.0   \n",
       "1324608         NaN          NaN                         990.0   \n",
       "1442975         NaN          NaN                           NaN   \n",
       "1647346         NaN          NaN                         400.0   \n",
       "1701026         NaN          NaN                           NaN   \n",
       "1722707         NaN          NaN                           NaN   \n",
       "1776422         NaN          NaN                           NaN   \n",
       "1797985         NaN          NaN                           NaN   \n",
       "\n",
       "         taxvaluedollarcnt  yearbuilt  taxamount    fips  \n",
       "107763             67366.0     1926.0     780.54  6059.0  \n",
       "118612             43992.0     1946.0     541.64  6059.0  \n",
       "193993            840698.0     1952.0        NaN  6059.0  \n",
       "1141339           188972.0        NaN        NaN  6037.0  \n",
       "1324608           435000.0     1906.0        NaN  6037.0  \n",
       "1442975           273196.0        NaN        NaN  6037.0  \n",
       "1647346            28347.0     1954.0        NaN  6037.0  \n",
       "1701026           407930.0     1926.0        NaN  6037.0  \n",
       "1722707           477161.0        NaN        NaN  6037.0  \n",
       "1776422            38855.0        NaN        NaN  6037.0  \n",
       "1797985          1017957.0     1990.0        NaN  6037.0  "
      ]
     },
     "execution_count": 8,
     "metadata": {},
     "output_type": "execute_result"
    }
   ],
   "source": [
    "# all of the null bathroom are also null bedroom. Going ot drop these 11 columns. \n",
    "zillow[zillow.bedroomcnt.isna()]"
   ]
  },
  {
   "cell_type": "code",
   "execution_count": 9,
   "id": "c7f7bf39",
   "metadata": {
    "scrolled": true
   },
   "outputs": [],
   "source": [
    "# Dropping all null values\n",
    "# Drops 12,628 observations\n",
    "zillow = zillow.dropna()"
   ]
  },
  {
   "cell_type": "code",
   "execution_count": 10,
   "id": "5c3f3aad",
   "metadata": {},
   "outputs": [
    {
     "data": {
      "text/plain": [
       "(2140235, 7)"
      ]
     },
     "execution_count": 10,
     "metadata": {},
     "output_type": "execute_result"
    }
   ],
   "source": [
    "zillow.shape"
   ]
  },
  {
   "cell_type": "code",
   "execution_count": 12,
   "id": "af04f8ec",
   "metadata": {},
   "outputs": [
    {
     "data": {
      "text/plain": [
       "bedroomcnt                      0\n",
       "bathroomcnt                     0\n",
       "calculatedfinishedsquarefeet    0\n",
       "taxvaluedollarcnt               0\n",
       "yearbuilt                       0\n",
       "taxamount                       0\n",
       "fips                            0\n",
       "dtype: int64"
      ]
     },
     "execution_count": 12,
     "metadata": {},
     "output_type": "execute_result"
    }
   ],
   "source": [
    "zillow.isna().sum()"
   ]
  },
  {
   "cell_type": "code",
   "execution_count": 22,
   "id": "a37dc4d9",
   "metadata": {},
   "outputs": [
    {
     "data": {
      "text/plain": [
       "3"
      ]
     },
     "execution_count": 22,
     "metadata": {},
     "output_type": "execute_result"
    }
   ],
   "source": [
    "zillow.fips.nunique()"
   ]
  },
  {
   "cell_type": "code",
   "execution_count": null,
   "id": "7ed47257",
   "metadata": {},
   "outputs": [],
   "source": [
    "# next checking for spaces in data\n",
    "# Does not apear ot be any blanck spaces\n",
    "# Takes a long time to check"
   ]
  },
  {
   "cell_type": "code",
   "execution_count": 21,
   "id": "cb22d609",
   "metadata": {},
   "outputs": [],
   "source": [
    "for col in zillow.columns:\n",
    "    filtered_rows = zillow[zillow[col] == '']\n",
    "    \n",
    "    if not filtered_rows.empty:\n",
    "        print(f\"Rows with empty strings in column '{col}':\")\n",
    "        print(filtered_rows)\n",
    "        print()\n",
    "        print()\n"
   ]
  },
  {
   "cell_type": "code",
   "execution_count": null,
   "id": "619d7e46",
   "metadata": {},
   "outputs": [],
   "source": [
    "# change data types.\n",
    "# most int. Bathrooms can be floats."
   ]
  },
  {
   "cell_type": "code",
   "execution_count": null,
   "id": "564ae042",
   "metadata": {},
   "outputs": [],
   "source": [
    "# When Data is clean go ahead and save to CSV\n",
    "# "
   ]
  }
 ],
 "metadata": {
  "kernelspec": {
   "display_name": "Python 3 (ipykernel)",
   "language": "python",
   "name": "python3"
  },
  "language_info": {
   "codemirror_mode": {
    "name": "ipython",
    "version": 3
   },
   "file_extension": ".py",
   "mimetype": "text/x-python",
   "name": "python",
   "nbconvert_exporter": "python",
   "pygments_lexer": "ipython3",
   "version": "3.10.9"
  }
 },
 "nbformat": 4,
 "nbformat_minor": 5
}
