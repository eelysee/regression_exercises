{
 "cells": [
  {
   "cell_type": "code",
   "execution_count": 2,
   "id": "972bb760",
   "metadata": {
    "scrolled": true
   },
   "outputs": [],
   "source": [
    "a = '10.9.9'\n",
    "b = '10.9.8'"
   ]
  },
  {
   "cell_type": "code",
   "execution_count": 4,
   "id": "14893ca1",
   "metadata": {},
   "outputs": [],
   "source": [
    "l = a.split('.')"
   ]
  },
  {
   "cell_type": "code",
   "execution_count": 5,
   "id": "b8336879",
   "metadata": {},
   "outputs": [
    {
     "data": {
      "text/plain": [
       "['10', '9', '9']"
      ]
     },
     "execution_count": 5,
     "metadata": {},
     "output_type": "execute_result"
    }
   ],
   "source": [
    "l"
   ]
  }
 ],
 "metadata": {
  "kernelspec": {
   "display_name": "Python 3 (ipykernel)",
   "language": "python",
   "name": "python3"
  },
  "language_info": {
   "codemirror_mode": {
    "name": "ipython",
    "version": 3
   },
   "file_extension": ".py",
   "mimetype": "text/x-python",
   "name": "python",
   "nbconvert_exporter": "python",
   "pygments_lexer": "ipython3",
   "version": "3.10.9"
  }
 },
 "nbformat": 4,
 "nbformat_minor": 5
}
